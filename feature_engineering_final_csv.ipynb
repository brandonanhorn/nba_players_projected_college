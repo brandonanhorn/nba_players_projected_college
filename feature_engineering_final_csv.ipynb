{
 "cells": [
  {
   "cell_type": "code",
   "execution_count": 1,
   "metadata": {},
   "outputs": [],
   "source": [
    "import pandas as pd\n",
    "import time\n",
    "import random\n",
    "import nba_api\n",
    "import datetime as dt\n",
    "import re\n",
    "\n",
    "from nba_api.stats.library.parameters import SeasonAll\n",
    "from nba_api.stats.static import players\n",
    "from nba_api.stats.static import teams\n",
    "from nba_api.stats.endpoints import playergamelog\n",
    "from nba_api.stats.endpoints import scoreboard\n",
    "from nba_api.stats.endpoints import teamgamelog\n",
    "from nba_api.stats.endpoints import leaguegamefinder\n",
    "from nba_api.stats.endpoints import shotchartdetail\n",
    "from nba_api.stats.endpoints import playervsplayer\n",
    "from nba_api.stats.endpoints import teamdashlineups\n",
    "from nba_api.stats.endpoints import leaguedashplayerbiostats\n",
    "from nba_api.stats.endpoints import leaguegamelog\n",
    "from nba_api.stats.endpoints import teamyearbyyearstats\n",
    "from nba_api.stats.endpoints import teamdashboardbygeneralsplits\n",
    "from nba_api.stats.endpoints import teamdashboardbyteamperformance\n",
    "from nba_api.stats.endpoints import teamdashboardbygamesplits\n",
    "from nba_api.stats.endpoints import teamdashlineups\n",
    "from nba_api.stats.endpoints import leaderstiles\n",
    "from nba_api.stats.endpoints import playbyplay"
   ]
  },
  {
   "cell_type": "code",
   "execution_count": 2,
   "metadata": {},
   "outputs": [],
   "source": [
    "pd.set_option('display.max_columns',100)"
   ]
  },
  {
   "cell_type": "markdown",
   "metadata": {},
   "source": [
    "## TEAM DATA"
   ]
  },
  {
   "cell_type": "code",
   "execution_count": 4,
   "metadata": {},
   "outputs": [],
   "source": [
    "team_dict = teams.get_teams()"
   ]
  },
  {
   "cell_type": "code",
   "execution_count": 39,
   "metadata": {},
   "outputs": [],
   "source": [
    "hawks = [team for team in team_dict if team['full_name']=='Atlanta Hawks'][0]\n",
    "celtics = [team for team in team_dict if team['full_name']=='Boston Celtics'][0]\n",
    "nets = [team for team in team_dict if team['full_name']=='Brooklyn Nets'][0]\n",
    "hornets = [team for team in team_dict if team['full_name']=='Charlotte Hornets'][0]\n",
    "bulls = [team for team in team_dict if team['full_name']=='Chicago Bulls'][0]\n",
    "cavaliers = [team for team in team_dict if team['full_name']=='Cleveland Cavaliers'][0]\n",
    "mavericks = [team for team in team_dict if team['full_name']=='Dallas Mavericks'][0]\n",
    "nuggets = [team for team in team_dict if team['full_name']=='Denver Nuggets'][0]\n",
    "pistons = [team for team in team_dict if team['full_name']=='Detroit Pistons'][0]\n",
    "warriors = [team for team in team_dict if team['full_name']=='Golden State Warriors'][0]\n",
    "rockets = [team for team in team_dict if team['full_name']=='Houston Rockets'][0]\n",
    "pacers = [team for team in team_dict if team['full_name']=='Indiana Pacers'][0]\n",
    "clippers = [team for team in team_dict if team['full_name']=='Los Angeles Clippers'][0]\n",
    "lakers = [team for team in team_dict if team['full_name']=='Los Angeles Lakers'][0]\n",
    "grizzlies = [team for team in team_dict if team['full_name']=='Memphis Grizzlies'][0]\n",
    "heat = [team for team in team_dict if team['full_name']=='Miami Heat'][0]\n",
    "bucks = [team for team in team_dict if team['full_name']=='Milwaukee Bucks'][0]\n",
    "timberwolves = [team for team in team_dict if team['full_name']=='Minnesota Timberwolves'][0]\n",
    "pelicans = [team for team in team_dict if team['full_name']=='New Orleans Pelicans'][0]\n",
    "knicks = [team for team in team_dict if team['full_name']=='New York Knicks'][0]\n",
    "thunder = [team for team in team_dict if team['full_name']=='Oklahoma City Thunder'][0]\n",
    "magic = [team for team in team_dict if team['full_name']=='Orlando Magic'][0]\n",
    "sixers = [team for team in team_dict if team['full_name']=='Philadelphia 76ers'][0]\n",
    "suns = [team for team in team_dict if team['full_name']=='Phoenix Suns'][0]\n",
    "blazers = [team for team in team_dict if team['full_name']=='Portland Trail Blazers'][0]\n",
    "kings = [team for team in team_dict if team['full_name']=='Sacramento Kings'][0]\n",
    "spurs = [team for team in team_dict if team['full_name']=='San Antonio Spurs'][0]\n",
    "raptors = [team for team in team_dict if team['full_name']=='Toronto Raptors'][0]\n",
    "jazz = [team for team in team_dict if team['full_name']=='Utah Jazz'][0]\n",
    "wizards = [team for team in team_dict if team['full_name']=='Washington Wizards'][0]"
   ]
  },
  {
   "cell_type": "code",
   "execution_count": 40,
   "metadata": {},
   "outputs": [],
   "source": [
    "hawks_id = hawks['id']\n",
    "celtics_id = celtics['id']\n",
    "nets_id = nets['id']\n",
    "hornets_id = hornets['id']\n",
    "bulls_id = bulls['id']\n",
    "cavaliers_id = cavaliers['id']\n",
    "mavericks_id = mavericks['id']\n",
    "nuggets_id = nuggets['id']\n",
    "pistons_id = pistons['id']\n",
    "warriors_id = warriors['id']\n",
    "rockets_id = rockets['id']\n",
    "pacers_id = pacers['id']\n",
    "clippers_id = clippers['id']\n",
    "lakers_id = lakers['id']\n",
    "grizzlies_id = grizzlies['id']\n",
    "heat_id = heat['id']\n",
    "bucks_id = bucks['id']\n",
    "timberwolves_id = timberwolves['id']\n",
    "pelicans_id = pelicans['id']\n",
    "knicks_id = knicks['id']\n",
    "thunder_id = thunder['id']\n",
    "magic_id = magic['id']\n",
    "sixers_id = sixers['id']\n",
    "suns_id = suns['id']\n",
    "blazers_id = blazers['id']\n",
    "kings_id = kings['id']\n",
    "spurs_id = spurs['id']\n",
    "raptors_id = raptors['id']\n",
    "jazz_id = jazz['id']\n",
    "wizards_id = wizards['id']"
   ]
  },
  {
   "cell_type": "code",
   "execution_count": 41,
   "metadata": {},
   "outputs": [
    {
     "ename": "ReadTimeout",
     "evalue": "HTTPSConnectionPool(host='stats.nba.com', port=443): Read timed out. (read timeout=30)",
     "output_type": "error",
     "traceback": [
      "\u001b[0;31m---------------------------------------------------------------------------\u001b[0m",
      "\u001b[0;31mtimeout\u001b[0m                                   Traceback (most recent call last)",
      "\u001b[0;32m~/opt/anaconda3/lib/python3.7/site-packages/urllib3/connectionpool.py\u001b[0m in \u001b[0;36m_make_request\u001b[0;34m(self, conn, method, url, timeout, chunked, **httplib_request_kw)\u001b[0m\n\u001b[1;32m    383\u001b[0m                     \u001b[0;31m# otherwise it looks like a programming error was the cause.\u001b[0m\u001b[0;34m\u001b[0m\u001b[0;34m\u001b[0m\u001b[0;34m\u001b[0m\u001b[0m\n\u001b[0;32m--> 384\u001b[0;31m                     \u001b[0msix\u001b[0m\u001b[0;34m.\u001b[0m\u001b[0mraise_from\u001b[0m\u001b[0;34m(\u001b[0m\u001b[0me\u001b[0m\u001b[0;34m,\u001b[0m \u001b[0;32mNone\u001b[0m\u001b[0;34m)\u001b[0m\u001b[0;34m\u001b[0m\u001b[0;34m\u001b[0m\u001b[0m\n\u001b[0m\u001b[1;32m    385\u001b[0m         \u001b[0;32mexcept\u001b[0m \u001b[0;34m(\u001b[0m\u001b[0mSocketTimeout\u001b[0m\u001b[0;34m,\u001b[0m \u001b[0mBaseSSLError\u001b[0m\u001b[0;34m,\u001b[0m \u001b[0mSocketError\u001b[0m\u001b[0;34m)\u001b[0m \u001b[0;32mas\u001b[0m \u001b[0me\u001b[0m\u001b[0;34m:\u001b[0m\u001b[0;34m\u001b[0m\u001b[0;34m\u001b[0m\u001b[0m\n",
      "\u001b[0;32m~/opt/anaconda3/lib/python3.7/site-packages/urllib3/packages/six.py\u001b[0m in \u001b[0;36mraise_from\u001b[0;34m(value, from_value)\u001b[0m\n",
      "\u001b[0;32m~/opt/anaconda3/lib/python3.7/site-packages/urllib3/connectionpool.py\u001b[0m in \u001b[0;36m_make_request\u001b[0;34m(self, conn, method, url, timeout, chunked, **httplib_request_kw)\u001b[0m\n\u001b[1;32m    379\u001b[0m                 \u001b[0;32mtry\u001b[0m\u001b[0;34m:\u001b[0m\u001b[0;34m\u001b[0m\u001b[0;34m\u001b[0m\u001b[0m\n\u001b[0;32m--> 380\u001b[0;31m                     \u001b[0mhttplib_response\u001b[0m \u001b[0;34m=\u001b[0m \u001b[0mconn\u001b[0m\u001b[0;34m.\u001b[0m\u001b[0mgetresponse\u001b[0m\u001b[0;34m(\u001b[0m\u001b[0;34m)\u001b[0m\u001b[0;34m\u001b[0m\u001b[0;34m\u001b[0m\u001b[0m\n\u001b[0m\u001b[1;32m    381\u001b[0m                 \u001b[0;32mexcept\u001b[0m \u001b[0mException\u001b[0m \u001b[0;32mas\u001b[0m \u001b[0me\u001b[0m\u001b[0;34m:\u001b[0m\u001b[0;34m\u001b[0m\u001b[0;34m\u001b[0m\u001b[0m\n",
      "\u001b[0;32m~/opt/anaconda3/lib/python3.7/http/client.py\u001b[0m in \u001b[0;36mgetresponse\u001b[0;34m(self)\u001b[0m\n\u001b[1;32m   1335\u001b[0m             \u001b[0;32mtry\u001b[0m\u001b[0;34m:\u001b[0m\u001b[0;34m\u001b[0m\u001b[0;34m\u001b[0m\u001b[0m\n\u001b[0;32m-> 1336\u001b[0;31m                 \u001b[0mresponse\u001b[0m\u001b[0;34m.\u001b[0m\u001b[0mbegin\u001b[0m\u001b[0;34m(\u001b[0m\u001b[0;34m)\u001b[0m\u001b[0;34m\u001b[0m\u001b[0;34m\u001b[0m\u001b[0m\n\u001b[0m\u001b[1;32m   1337\u001b[0m             \u001b[0;32mexcept\u001b[0m \u001b[0mConnectionError\u001b[0m\u001b[0;34m:\u001b[0m\u001b[0;34m\u001b[0m\u001b[0;34m\u001b[0m\u001b[0m\n",
      "\u001b[0;32m~/opt/anaconda3/lib/python3.7/http/client.py\u001b[0m in \u001b[0;36mbegin\u001b[0;34m(self)\u001b[0m\n\u001b[1;32m    305\u001b[0m         \u001b[0;32mwhile\u001b[0m \u001b[0;32mTrue\u001b[0m\u001b[0;34m:\u001b[0m\u001b[0;34m\u001b[0m\u001b[0;34m\u001b[0m\u001b[0m\n\u001b[0;32m--> 306\u001b[0;31m             \u001b[0mversion\u001b[0m\u001b[0;34m,\u001b[0m \u001b[0mstatus\u001b[0m\u001b[0;34m,\u001b[0m \u001b[0mreason\u001b[0m \u001b[0;34m=\u001b[0m \u001b[0mself\u001b[0m\u001b[0;34m.\u001b[0m\u001b[0m_read_status\u001b[0m\u001b[0;34m(\u001b[0m\u001b[0;34m)\u001b[0m\u001b[0;34m\u001b[0m\u001b[0;34m\u001b[0m\u001b[0m\n\u001b[0m\u001b[1;32m    307\u001b[0m             \u001b[0;32mif\u001b[0m \u001b[0mstatus\u001b[0m \u001b[0;34m!=\u001b[0m \u001b[0mCONTINUE\u001b[0m\u001b[0;34m:\u001b[0m\u001b[0;34m\u001b[0m\u001b[0;34m\u001b[0m\u001b[0m\n",
      "\u001b[0;32m~/opt/anaconda3/lib/python3.7/http/client.py\u001b[0m in \u001b[0;36m_read_status\u001b[0;34m(self)\u001b[0m\n\u001b[1;32m    266\u001b[0m     \u001b[0;32mdef\u001b[0m \u001b[0m_read_status\u001b[0m\u001b[0;34m(\u001b[0m\u001b[0mself\u001b[0m\u001b[0;34m)\u001b[0m\u001b[0;34m:\u001b[0m\u001b[0;34m\u001b[0m\u001b[0;34m\u001b[0m\u001b[0m\n\u001b[0;32m--> 267\u001b[0;31m         \u001b[0mline\u001b[0m \u001b[0;34m=\u001b[0m \u001b[0mstr\u001b[0m\u001b[0;34m(\u001b[0m\u001b[0mself\u001b[0m\u001b[0;34m.\u001b[0m\u001b[0mfp\u001b[0m\u001b[0;34m.\u001b[0m\u001b[0mreadline\u001b[0m\u001b[0;34m(\u001b[0m\u001b[0m_MAXLINE\u001b[0m \u001b[0;34m+\u001b[0m \u001b[0;36m1\u001b[0m\u001b[0;34m)\u001b[0m\u001b[0;34m,\u001b[0m \u001b[0;34m\"iso-8859-1\"\u001b[0m\u001b[0;34m)\u001b[0m\u001b[0;34m\u001b[0m\u001b[0;34m\u001b[0m\u001b[0m\n\u001b[0m\u001b[1;32m    268\u001b[0m         \u001b[0;32mif\u001b[0m \u001b[0mlen\u001b[0m\u001b[0;34m(\u001b[0m\u001b[0mline\u001b[0m\u001b[0;34m)\u001b[0m \u001b[0;34m>\u001b[0m \u001b[0m_MAXLINE\u001b[0m\u001b[0;34m:\u001b[0m\u001b[0;34m\u001b[0m\u001b[0;34m\u001b[0m\u001b[0m\n",
      "\u001b[0;32m~/opt/anaconda3/lib/python3.7/socket.py\u001b[0m in \u001b[0;36mreadinto\u001b[0;34m(self, b)\u001b[0m\n\u001b[1;32m    588\u001b[0m             \u001b[0;32mtry\u001b[0m\u001b[0;34m:\u001b[0m\u001b[0;34m\u001b[0m\u001b[0;34m\u001b[0m\u001b[0m\n\u001b[0;32m--> 589\u001b[0;31m                 \u001b[0;32mreturn\u001b[0m \u001b[0mself\u001b[0m\u001b[0;34m.\u001b[0m\u001b[0m_sock\u001b[0m\u001b[0;34m.\u001b[0m\u001b[0mrecv_into\u001b[0m\u001b[0;34m(\u001b[0m\u001b[0mb\u001b[0m\u001b[0;34m)\u001b[0m\u001b[0;34m\u001b[0m\u001b[0;34m\u001b[0m\u001b[0m\n\u001b[0m\u001b[1;32m    590\u001b[0m             \u001b[0;32mexcept\u001b[0m \u001b[0mtimeout\u001b[0m\u001b[0;34m:\u001b[0m\u001b[0;34m\u001b[0m\u001b[0;34m\u001b[0m\u001b[0m\n",
      "\u001b[0;32m~/opt/anaconda3/lib/python3.7/site-packages/urllib3/contrib/pyopenssl.py\u001b[0m in \u001b[0;36mrecv_into\u001b[0;34m(self, *args, **kwargs)\u001b[0m\n\u001b[1;32m    311\u001b[0m             \u001b[0;32melse\u001b[0m\u001b[0;34m:\u001b[0m\u001b[0;34m\u001b[0m\u001b[0;34m\u001b[0m\u001b[0m\n\u001b[0;32m--> 312\u001b[0;31m                 \u001b[0;32mreturn\u001b[0m \u001b[0mself\u001b[0m\u001b[0;34m.\u001b[0m\u001b[0mrecv_into\u001b[0m\u001b[0;34m(\u001b[0m\u001b[0;34m*\u001b[0m\u001b[0margs\u001b[0m\u001b[0;34m,\u001b[0m \u001b[0;34m**\u001b[0m\u001b[0mkwargs\u001b[0m\u001b[0;34m)\u001b[0m\u001b[0;34m\u001b[0m\u001b[0;34m\u001b[0m\u001b[0m\n\u001b[0m\u001b[1;32m    313\u001b[0m \u001b[0;34m\u001b[0m\u001b[0m\n",
      "\u001b[0;32m~/opt/anaconda3/lib/python3.7/site-packages/urllib3/contrib/pyopenssl.py\u001b[0m in \u001b[0;36mrecv_into\u001b[0;34m(self, *args, **kwargs)\u001b[0m\n\u001b[1;32m    309\u001b[0m             \u001b[0;32mif\u001b[0m \u001b[0;32mnot\u001b[0m \u001b[0mutil\u001b[0m\u001b[0;34m.\u001b[0m\u001b[0mwait_for_read\u001b[0m\u001b[0;34m(\u001b[0m\u001b[0mself\u001b[0m\u001b[0;34m.\u001b[0m\u001b[0msocket\u001b[0m\u001b[0;34m,\u001b[0m \u001b[0mself\u001b[0m\u001b[0;34m.\u001b[0m\u001b[0msocket\u001b[0m\u001b[0;34m.\u001b[0m\u001b[0mgettimeout\u001b[0m\u001b[0;34m(\u001b[0m\u001b[0;34m)\u001b[0m\u001b[0;34m)\u001b[0m\u001b[0;34m:\u001b[0m\u001b[0;34m\u001b[0m\u001b[0;34m\u001b[0m\u001b[0m\n\u001b[0;32m--> 310\u001b[0;31m                 \u001b[0;32mraise\u001b[0m \u001b[0mtimeout\u001b[0m\u001b[0;34m(\u001b[0m\u001b[0;34m'The read operation timed out'\u001b[0m\u001b[0;34m)\u001b[0m\u001b[0;34m\u001b[0m\u001b[0;34m\u001b[0m\u001b[0m\n\u001b[0m\u001b[1;32m    311\u001b[0m             \u001b[0;32melse\u001b[0m\u001b[0;34m:\u001b[0m\u001b[0;34m\u001b[0m\u001b[0;34m\u001b[0m\u001b[0m\n",
      "\u001b[0;31mtimeout\u001b[0m: The read operation timed out",
      "\nDuring handling of the above exception, another exception occurred:\n",
      "\u001b[0;31mReadTimeoutError\u001b[0m                          Traceback (most recent call last)",
      "\u001b[0;32m~/opt/anaconda3/lib/python3.7/site-packages/requests/adapters.py\u001b[0m in \u001b[0;36msend\u001b[0;34m(self, request, stream, timeout, verify, cert, proxies)\u001b[0m\n\u001b[1;32m    448\u001b[0m                     \u001b[0mretries\u001b[0m\u001b[0;34m=\u001b[0m\u001b[0mself\u001b[0m\u001b[0;34m.\u001b[0m\u001b[0mmax_retries\u001b[0m\u001b[0;34m,\u001b[0m\u001b[0;34m\u001b[0m\u001b[0;34m\u001b[0m\u001b[0m\n\u001b[0;32m--> 449\u001b[0;31m                     \u001b[0mtimeout\u001b[0m\u001b[0;34m=\u001b[0m\u001b[0mtimeout\u001b[0m\u001b[0;34m\u001b[0m\u001b[0;34m\u001b[0m\u001b[0m\n\u001b[0m\u001b[1;32m    450\u001b[0m                 )\n",
      "\u001b[0;32m~/opt/anaconda3/lib/python3.7/site-packages/urllib3/connectionpool.py\u001b[0m in \u001b[0;36murlopen\u001b[0;34m(self, method, url, body, headers, retries, redirect, assert_same_host, timeout, pool_timeout, release_conn, chunked, body_pos, **response_kw)\u001b[0m\n\u001b[1;32m    637\u001b[0m             retries = retries.increment(method, url, error=e, _pool=self,\n\u001b[0;32m--> 638\u001b[0;31m                                         _stacktrace=sys.exc_info()[2])\n\u001b[0m\u001b[1;32m    639\u001b[0m             \u001b[0mretries\u001b[0m\u001b[0;34m.\u001b[0m\u001b[0msleep\u001b[0m\u001b[0;34m(\u001b[0m\u001b[0;34m)\u001b[0m\u001b[0;34m\u001b[0m\u001b[0;34m\u001b[0m\u001b[0m\n",
      "\u001b[0;32m~/opt/anaconda3/lib/python3.7/site-packages/urllib3/util/retry.py\u001b[0m in \u001b[0;36mincrement\u001b[0;34m(self, method, url, response, error, _pool, _stacktrace)\u001b[0m\n\u001b[1;32m    367\u001b[0m             \u001b[0;32mif\u001b[0m \u001b[0mread\u001b[0m \u001b[0;32mis\u001b[0m \u001b[0;32mFalse\u001b[0m \u001b[0;32mor\u001b[0m \u001b[0;32mnot\u001b[0m \u001b[0mself\u001b[0m\u001b[0;34m.\u001b[0m\u001b[0m_is_method_retryable\u001b[0m\u001b[0;34m(\u001b[0m\u001b[0mmethod\u001b[0m\u001b[0;34m)\u001b[0m\u001b[0;34m:\u001b[0m\u001b[0;34m\u001b[0m\u001b[0;34m\u001b[0m\u001b[0m\n\u001b[0;32m--> 368\u001b[0;31m                 \u001b[0;32mraise\u001b[0m \u001b[0msix\u001b[0m\u001b[0;34m.\u001b[0m\u001b[0mreraise\u001b[0m\u001b[0;34m(\u001b[0m\u001b[0mtype\u001b[0m\u001b[0;34m(\u001b[0m\u001b[0merror\u001b[0m\u001b[0;34m)\u001b[0m\u001b[0;34m,\u001b[0m \u001b[0merror\u001b[0m\u001b[0;34m,\u001b[0m \u001b[0m_stacktrace\u001b[0m\u001b[0;34m)\u001b[0m\u001b[0;34m\u001b[0m\u001b[0;34m\u001b[0m\u001b[0m\n\u001b[0m\u001b[1;32m    369\u001b[0m             \u001b[0;32melif\u001b[0m \u001b[0mread\u001b[0m \u001b[0;32mis\u001b[0m \u001b[0;32mnot\u001b[0m \u001b[0;32mNone\u001b[0m\u001b[0;34m:\u001b[0m\u001b[0;34m\u001b[0m\u001b[0;34m\u001b[0m\u001b[0m\n",
      "\u001b[0;32m~/opt/anaconda3/lib/python3.7/site-packages/urllib3/packages/six.py\u001b[0m in \u001b[0;36mreraise\u001b[0;34m(tp, value, tb)\u001b[0m\n\u001b[1;32m    685\u001b[0m             \u001b[0;32mraise\u001b[0m \u001b[0mvalue\u001b[0m\u001b[0;34m.\u001b[0m\u001b[0mwith_traceback\u001b[0m\u001b[0;34m(\u001b[0m\u001b[0mtb\u001b[0m\u001b[0;34m)\u001b[0m\u001b[0;34m\u001b[0m\u001b[0;34m\u001b[0m\u001b[0m\n\u001b[0;32m--> 686\u001b[0;31m         \u001b[0;32mraise\u001b[0m \u001b[0mvalue\u001b[0m\u001b[0;34m\u001b[0m\u001b[0;34m\u001b[0m\u001b[0m\n\u001b[0m\u001b[1;32m    687\u001b[0m \u001b[0;34m\u001b[0m\u001b[0m\n",
      "\u001b[0;32m~/opt/anaconda3/lib/python3.7/site-packages/urllib3/connectionpool.py\u001b[0m in \u001b[0;36murlopen\u001b[0;34m(self, method, url, body, headers, retries, redirect, assert_same_host, timeout, pool_timeout, release_conn, chunked, body_pos, **response_kw)\u001b[0m\n\u001b[1;32m    599\u001b[0m                                                   \u001b[0mbody\u001b[0m\u001b[0;34m=\u001b[0m\u001b[0mbody\u001b[0m\u001b[0;34m,\u001b[0m \u001b[0mheaders\u001b[0m\u001b[0;34m=\u001b[0m\u001b[0mheaders\u001b[0m\u001b[0;34m,\u001b[0m\u001b[0;34m\u001b[0m\u001b[0;34m\u001b[0m\u001b[0m\n\u001b[0;32m--> 600\u001b[0;31m                                                   chunked=chunked)\n\u001b[0m\u001b[1;32m    601\u001b[0m \u001b[0;34m\u001b[0m\u001b[0m\n",
      "\u001b[0;32m~/opt/anaconda3/lib/python3.7/site-packages/urllib3/connectionpool.py\u001b[0m in \u001b[0;36m_make_request\u001b[0;34m(self, conn, method, url, timeout, chunked, **httplib_request_kw)\u001b[0m\n\u001b[1;32m    385\u001b[0m         \u001b[0;32mexcept\u001b[0m \u001b[0;34m(\u001b[0m\u001b[0mSocketTimeout\u001b[0m\u001b[0;34m,\u001b[0m \u001b[0mBaseSSLError\u001b[0m\u001b[0;34m,\u001b[0m \u001b[0mSocketError\u001b[0m\u001b[0;34m)\u001b[0m \u001b[0;32mas\u001b[0m \u001b[0me\u001b[0m\u001b[0;34m:\u001b[0m\u001b[0;34m\u001b[0m\u001b[0;34m\u001b[0m\u001b[0m\n\u001b[0;32m--> 386\u001b[0;31m             \u001b[0mself\u001b[0m\u001b[0;34m.\u001b[0m\u001b[0m_raise_timeout\u001b[0m\u001b[0;34m(\u001b[0m\u001b[0merr\u001b[0m\u001b[0;34m=\u001b[0m\u001b[0me\u001b[0m\u001b[0;34m,\u001b[0m \u001b[0murl\u001b[0m\u001b[0;34m=\u001b[0m\u001b[0murl\u001b[0m\u001b[0;34m,\u001b[0m \u001b[0mtimeout_value\u001b[0m\u001b[0;34m=\u001b[0m\u001b[0mread_timeout\u001b[0m\u001b[0;34m)\u001b[0m\u001b[0;34m\u001b[0m\u001b[0;34m\u001b[0m\u001b[0m\n\u001b[0m\u001b[1;32m    387\u001b[0m             \u001b[0;32mraise\u001b[0m\u001b[0;34m\u001b[0m\u001b[0;34m\u001b[0m\u001b[0m\n",
      "\u001b[0;32m~/opt/anaconda3/lib/python3.7/site-packages/urllib3/connectionpool.py\u001b[0m in \u001b[0;36m_raise_timeout\u001b[0;34m(self, err, url, timeout_value)\u001b[0m\n\u001b[1;32m    305\u001b[0m         \u001b[0;32mif\u001b[0m \u001b[0misinstance\u001b[0m\u001b[0;34m(\u001b[0m\u001b[0merr\u001b[0m\u001b[0;34m,\u001b[0m \u001b[0mSocketTimeout\u001b[0m\u001b[0;34m)\u001b[0m\u001b[0;34m:\u001b[0m\u001b[0;34m\u001b[0m\u001b[0;34m\u001b[0m\u001b[0m\n\u001b[0;32m--> 306\u001b[0;31m             \u001b[0;32mraise\u001b[0m \u001b[0mReadTimeoutError\u001b[0m\u001b[0;34m(\u001b[0m\u001b[0mself\u001b[0m\u001b[0;34m,\u001b[0m \u001b[0murl\u001b[0m\u001b[0;34m,\u001b[0m \u001b[0;34m\"Read timed out. (read timeout=%s)\"\u001b[0m \u001b[0;34m%\u001b[0m \u001b[0mtimeout_value\u001b[0m\u001b[0;34m)\u001b[0m\u001b[0;34m\u001b[0m\u001b[0;34m\u001b[0m\u001b[0m\n\u001b[0m\u001b[1;32m    307\u001b[0m \u001b[0;34m\u001b[0m\u001b[0m\n",
      "\u001b[0;31mReadTimeoutError\u001b[0m: HTTPSConnectionPool(host='stats.nba.com', port=443): Read timed out. (read timeout=30)",
      "\nDuring handling of the above exception, another exception occurred:\n",
      "\u001b[0;31mReadTimeout\u001b[0m                               Traceback (most recent call last)",
      "\u001b[0;32m<ipython-input-41-eb54259c2f65>\u001b[0m in \u001b[0;36m<module>\u001b[0;34m\u001b[0m\n\u001b[1;32m     20\u001b[0m \u001b[0mbucks_games\u001b[0m \u001b[0;34m=\u001b[0m \u001b[0mleaguegamefinder\u001b[0m\u001b[0;34m.\u001b[0m\u001b[0mLeagueGameFinder\u001b[0m\u001b[0;34m(\u001b[0m\u001b[0mteam_id_nullable\u001b[0m\u001b[0;34m=\u001b[0m\u001b[0mbucks_id\u001b[0m\u001b[0;34m)\u001b[0m\u001b[0;34m.\u001b[0m\u001b[0mget_data_frames\u001b[0m\u001b[0;34m(\u001b[0m\u001b[0;34m)\u001b[0m\u001b[0;34m[\u001b[0m\u001b[0;36m0\u001b[0m\u001b[0;34m]\u001b[0m\u001b[0;34m\u001b[0m\u001b[0;34m\u001b[0m\u001b[0m\n\u001b[1;32m     21\u001b[0m \u001b[0mtimberwolves_games\u001b[0m \u001b[0;34m=\u001b[0m \u001b[0mleaguegamefinder\u001b[0m\u001b[0;34m.\u001b[0m\u001b[0mLeagueGameFinder\u001b[0m\u001b[0;34m(\u001b[0m\u001b[0mteam_id_nullable\u001b[0m\u001b[0;34m=\u001b[0m\u001b[0mtimberwolves_id\u001b[0m\u001b[0;34m)\u001b[0m\u001b[0;34m.\u001b[0m\u001b[0mget_data_frames\u001b[0m\u001b[0;34m(\u001b[0m\u001b[0;34m)\u001b[0m\u001b[0;34m[\u001b[0m\u001b[0;36m0\u001b[0m\u001b[0;34m]\u001b[0m\u001b[0;34m\u001b[0m\u001b[0;34m\u001b[0m\u001b[0m\n\u001b[0;32m---> 22\u001b[0;31m \u001b[0mpelicans_games\u001b[0m \u001b[0;34m=\u001b[0m \u001b[0mleaguegamefinder\u001b[0m\u001b[0;34m.\u001b[0m\u001b[0mLeagueGameFinder\u001b[0m\u001b[0;34m(\u001b[0m\u001b[0mteam_id_nullable\u001b[0m\u001b[0;34m=\u001b[0m\u001b[0mpelicans_id\u001b[0m\u001b[0;34m)\u001b[0m\u001b[0;34m.\u001b[0m\u001b[0mget_data_frames\u001b[0m\u001b[0;34m(\u001b[0m\u001b[0;34m)\u001b[0m\u001b[0;34m[\u001b[0m\u001b[0;36m0\u001b[0m\u001b[0;34m]\u001b[0m\u001b[0;34m\u001b[0m\u001b[0;34m\u001b[0m\u001b[0m\n\u001b[0m\u001b[1;32m     23\u001b[0m \u001b[0mtime\u001b[0m\u001b[0;34m.\u001b[0m\u001b[0msleep\u001b[0m\u001b[0;34m(\u001b[0m\u001b[0mrandom\u001b[0m\u001b[0;34m.\u001b[0m\u001b[0mrandint\u001b[0m\u001b[0;34m(\u001b[0m\u001b[0;36m1\u001b[0m\u001b[0;34m,\u001b[0m \u001b[0;36m10\u001b[0m\u001b[0;34m)\u001b[0m \u001b[0;34m/\u001b[0m \u001b[0;36m10\u001b[0m\u001b[0;34m)\u001b[0m\u001b[0;34m\u001b[0m\u001b[0;34m\u001b[0m\u001b[0m\n\u001b[1;32m     24\u001b[0m \u001b[0mknicks_games\u001b[0m \u001b[0;34m=\u001b[0m \u001b[0mleaguegamefinder\u001b[0m\u001b[0;34m.\u001b[0m\u001b[0mLeagueGameFinder\u001b[0m\u001b[0;34m(\u001b[0m\u001b[0mteam_id_nullable\u001b[0m\u001b[0;34m=\u001b[0m\u001b[0mknicks_id\u001b[0m\u001b[0;34m)\u001b[0m\u001b[0;34m.\u001b[0m\u001b[0mget_data_frames\u001b[0m\u001b[0;34m(\u001b[0m\u001b[0;34m)\u001b[0m\u001b[0;34m[\u001b[0m\u001b[0;36m0\u001b[0m\u001b[0;34m]\u001b[0m\u001b[0;34m\u001b[0m\u001b[0;34m\u001b[0m\u001b[0m\n",
      "\u001b[0;32m~/opt/anaconda3/lib/python3.7/site-packages/nba_api/stats/endpoints/leaguegamefinder.py\u001b[0m in \u001b[0;36m__init__\u001b[0;34m(self, player_or_team_abbreviation, conference_nullable, date_from_nullable, date_to_nullable, division_simple_nullable, draft_number_nullable, draft_round_nullable, draft_team_id_nullable, draft_year_nullable, eq_ast_nullable, eq_blk_nullable, eq_dd_nullable, eq_dreb_nullable, eq_fg3a_nullable, eq_fg3m_nullable, eq_fg3_pct_nullable, eq_fga_nullable, eq_fgm_nullable, eq_fg_pct_nullable, eq_fta_nullable, eq_ftm_nullable, eq_ft_pct_nullable, eq_minutes_nullable, eq_oreb_nullable, eq_pf_nullable, eq_pts_nullable, eq_reb_nullable, eq_stl_nullable, eq_td_nullable, eq_tov_nullable, game_id_nullable, gt_ast_nullable, gt_blk_nullable, gt_dd_nullable, gt_dreb_nullable, gt_fg3a_nullable, gt_fg3m_nullable, gt_fg3_pct_nullable, gt_fga_nullable, gt_fgm_nullable, gt_fg_pct_nullable, gt_fta_nullable, gt_ftm_nullable, gt_ft_pct_nullable, gt_minutes_nullable, gt_oreb_nullable, gt_pf_nullable, gt_pts_nullable, gt_reb_nullable, gt_stl_nullable, gt_td_nullable, gt_tov_nullable, league_id_nullable, location_nullable, lt_ast_nullable, lt_blk_nullable, lt_dd_nullable, lt_dreb_nullable, lt_fg3a_nullable, lt_fg3m_nullable, lt_fg3_pct_nullable, lt_fga_nullable, lt_fgm_nullable, lt_fg_pct_nullable, lt_fta_nullable, lt_ftm_nullable, lt_ft_pct_nullable, lt_minutes_nullable, lt_oreb_nullable, lt_pf_nullable, lt_pts_nullable, lt_reb_nullable, lt_stl_nullable, lt_td_nullable, lt_tov_nullable, outcome_nullable, po_round_nullable, player_id_nullable, rookie_year_nullable, season_nullable, season_segment_nullable, season_type_nullable, starter_bench_nullable, team_id_nullable, vs_conference_nullable, vs_division_nullable, vs_team_id_nullable, years_experience_nullable, proxy, headers, timeout, get_request)\u001b[0m\n\u001b[1;32m    202\u001b[0m         }\n\u001b[1;32m    203\u001b[0m         \u001b[0;32mif\u001b[0m \u001b[0mget_request\u001b[0m\u001b[0;34m:\u001b[0m\u001b[0;34m\u001b[0m\u001b[0;34m\u001b[0m\u001b[0m\n\u001b[0;32m--> 204\u001b[0;31m             \u001b[0mself\u001b[0m\u001b[0;34m.\u001b[0m\u001b[0mget_request\u001b[0m\u001b[0;34m(\u001b[0m\u001b[0;34m)\u001b[0m\u001b[0;34m\u001b[0m\u001b[0;34m\u001b[0m\u001b[0m\n\u001b[0m\u001b[1;32m    205\u001b[0m \u001b[0;34m\u001b[0m\u001b[0m\n\u001b[1;32m    206\u001b[0m     \u001b[0;32mdef\u001b[0m \u001b[0mget_request\u001b[0m\u001b[0;34m(\u001b[0m\u001b[0mself\u001b[0m\u001b[0;34m)\u001b[0m\u001b[0;34m:\u001b[0m\u001b[0;34m\u001b[0m\u001b[0;34m\u001b[0m\u001b[0m\n",
      "\u001b[0;32m~/opt/anaconda3/lib/python3.7/site-packages/nba_api/stats/endpoints/leaguegamefinder.py\u001b[0m in \u001b[0;36mget_request\u001b[0;34m(self)\u001b[0m\n\u001b[1;32m    210\u001b[0m             \u001b[0mproxy\u001b[0m\u001b[0;34m=\u001b[0m\u001b[0mself\u001b[0m\u001b[0;34m.\u001b[0m\u001b[0mproxy\u001b[0m\u001b[0;34m,\u001b[0m\u001b[0;34m\u001b[0m\u001b[0;34m\u001b[0m\u001b[0m\n\u001b[1;32m    211\u001b[0m             \u001b[0mheaders\u001b[0m\u001b[0;34m=\u001b[0m\u001b[0mself\u001b[0m\u001b[0;34m.\u001b[0m\u001b[0mheaders\u001b[0m\u001b[0;34m,\u001b[0m\u001b[0;34m\u001b[0m\u001b[0;34m\u001b[0m\u001b[0m\n\u001b[0;32m--> 212\u001b[0;31m             \u001b[0mtimeout\u001b[0m\u001b[0;34m=\u001b[0m\u001b[0mself\u001b[0m\u001b[0;34m.\u001b[0m\u001b[0mtimeout\u001b[0m\u001b[0;34m,\u001b[0m\u001b[0;34m\u001b[0m\u001b[0;34m\u001b[0m\u001b[0m\n\u001b[0m\u001b[1;32m    213\u001b[0m         )\n\u001b[1;32m    214\u001b[0m         \u001b[0mself\u001b[0m\u001b[0;34m.\u001b[0m\u001b[0mload_response\u001b[0m\u001b[0;34m(\u001b[0m\u001b[0;34m)\u001b[0m\u001b[0;34m\u001b[0m\u001b[0;34m\u001b[0m\u001b[0m\n",
      "\u001b[0;32m~/opt/anaconda3/lib/python3.7/site-packages/nba_api/library/http.py\u001b[0m in \u001b[0;36msend_api_request\u001b[0;34m(self, endpoint, parameters, referer, proxy, headers, timeout, raise_exception_on_error)\u001b[0m\n\u001b[1;32m    126\u001b[0m \u001b[0;34m\u001b[0m\u001b[0m\n\u001b[1;32m    127\u001b[0m         \u001b[0;32mif\u001b[0m \u001b[0;32mnot\u001b[0m \u001b[0mcontents\u001b[0m\u001b[0;34m:\u001b[0m\u001b[0;34m\u001b[0m\u001b[0;34m\u001b[0m\u001b[0m\n\u001b[0;32m--> 128\u001b[0;31m             \u001b[0mresponse\u001b[0m \u001b[0;34m=\u001b[0m \u001b[0mrequests\u001b[0m\u001b[0;34m.\u001b[0m\u001b[0mget\u001b[0m\u001b[0;34m(\u001b[0m\u001b[0murl\u001b[0m\u001b[0;34m=\u001b[0m\u001b[0mbase_url\u001b[0m\u001b[0;34m,\u001b[0m \u001b[0mparams\u001b[0m\u001b[0;34m=\u001b[0m\u001b[0mparameters\u001b[0m\u001b[0;34m,\u001b[0m \u001b[0mheaders\u001b[0m\u001b[0;34m=\u001b[0m\u001b[0mrequest_headers\u001b[0m\u001b[0;34m,\u001b[0m \u001b[0mproxies\u001b[0m\u001b[0;34m=\u001b[0m\u001b[0mproxies\u001b[0m\u001b[0;34m,\u001b[0m \u001b[0mtimeout\u001b[0m\u001b[0;34m=\u001b[0m\u001b[0mtimeout\u001b[0m\u001b[0;34m)\u001b[0m\u001b[0;34m\u001b[0m\u001b[0;34m\u001b[0m\u001b[0m\n\u001b[0m\u001b[1;32m    129\u001b[0m             \u001b[0murl\u001b[0m \u001b[0;34m=\u001b[0m \u001b[0mresponse\u001b[0m\u001b[0;34m.\u001b[0m\u001b[0murl\u001b[0m\u001b[0;34m\u001b[0m\u001b[0;34m\u001b[0m\u001b[0m\n\u001b[1;32m    130\u001b[0m             \u001b[0mstatus_code\u001b[0m \u001b[0;34m=\u001b[0m \u001b[0mresponse\u001b[0m\u001b[0;34m.\u001b[0m\u001b[0mstatus_code\u001b[0m\u001b[0;34m\u001b[0m\u001b[0;34m\u001b[0m\u001b[0m\n",
      "\u001b[0;32m~/opt/anaconda3/lib/python3.7/site-packages/requests/api.py\u001b[0m in \u001b[0;36mget\u001b[0;34m(url, params, **kwargs)\u001b[0m\n\u001b[1;32m     73\u001b[0m \u001b[0;34m\u001b[0m\u001b[0m\n\u001b[1;32m     74\u001b[0m     \u001b[0mkwargs\u001b[0m\u001b[0;34m.\u001b[0m\u001b[0msetdefault\u001b[0m\u001b[0;34m(\u001b[0m\u001b[0;34m'allow_redirects'\u001b[0m\u001b[0;34m,\u001b[0m \u001b[0;32mTrue\u001b[0m\u001b[0;34m)\u001b[0m\u001b[0;34m\u001b[0m\u001b[0;34m\u001b[0m\u001b[0m\n\u001b[0;32m---> 75\u001b[0;31m     \u001b[0;32mreturn\u001b[0m \u001b[0mrequest\u001b[0m\u001b[0;34m(\u001b[0m\u001b[0;34m'get'\u001b[0m\u001b[0;34m,\u001b[0m \u001b[0murl\u001b[0m\u001b[0;34m,\u001b[0m \u001b[0mparams\u001b[0m\u001b[0;34m=\u001b[0m\u001b[0mparams\u001b[0m\u001b[0;34m,\u001b[0m \u001b[0;34m**\u001b[0m\u001b[0mkwargs\u001b[0m\u001b[0;34m)\u001b[0m\u001b[0;34m\u001b[0m\u001b[0;34m\u001b[0m\u001b[0m\n\u001b[0m\u001b[1;32m     76\u001b[0m \u001b[0;34m\u001b[0m\u001b[0m\n\u001b[1;32m     77\u001b[0m \u001b[0;34m\u001b[0m\u001b[0m\n",
      "\u001b[0;32m~/opt/anaconda3/lib/python3.7/site-packages/requests/api.py\u001b[0m in \u001b[0;36mrequest\u001b[0;34m(method, url, **kwargs)\u001b[0m\n\u001b[1;32m     58\u001b[0m     \u001b[0;31m# cases, and look like a memory leak in others.\u001b[0m\u001b[0;34m\u001b[0m\u001b[0;34m\u001b[0m\u001b[0;34m\u001b[0m\u001b[0m\n\u001b[1;32m     59\u001b[0m     \u001b[0;32mwith\u001b[0m \u001b[0msessions\u001b[0m\u001b[0;34m.\u001b[0m\u001b[0mSession\u001b[0m\u001b[0;34m(\u001b[0m\u001b[0;34m)\u001b[0m \u001b[0;32mas\u001b[0m \u001b[0msession\u001b[0m\u001b[0;34m:\u001b[0m\u001b[0;34m\u001b[0m\u001b[0;34m\u001b[0m\u001b[0m\n\u001b[0;32m---> 60\u001b[0;31m         \u001b[0;32mreturn\u001b[0m \u001b[0msession\u001b[0m\u001b[0;34m.\u001b[0m\u001b[0mrequest\u001b[0m\u001b[0;34m(\u001b[0m\u001b[0mmethod\u001b[0m\u001b[0;34m=\u001b[0m\u001b[0mmethod\u001b[0m\u001b[0;34m,\u001b[0m \u001b[0murl\u001b[0m\u001b[0;34m=\u001b[0m\u001b[0murl\u001b[0m\u001b[0;34m,\u001b[0m \u001b[0;34m**\u001b[0m\u001b[0mkwargs\u001b[0m\u001b[0;34m)\u001b[0m\u001b[0;34m\u001b[0m\u001b[0;34m\u001b[0m\u001b[0m\n\u001b[0m\u001b[1;32m     61\u001b[0m \u001b[0;34m\u001b[0m\u001b[0m\n\u001b[1;32m     62\u001b[0m \u001b[0;34m\u001b[0m\u001b[0m\n",
      "\u001b[0;32m~/opt/anaconda3/lib/python3.7/site-packages/requests/sessions.py\u001b[0m in \u001b[0;36mrequest\u001b[0;34m(self, method, url, params, data, headers, cookies, files, auth, timeout, allow_redirects, proxies, hooks, stream, verify, cert, json)\u001b[0m\n\u001b[1;32m    522\u001b[0m         }\n\u001b[1;32m    523\u001b[0m         \u001b[0msend_kwargs\u001b[0m\u001b[0;34m.\u001b[0m\u001b[0mupdate\u001b[0m\u001b[0;34m(\u001b[0m\u001b[0msettings\u001b[0m\u001b[0;34m)\u001b[0m\u001b[0;34m\u001b[0m\u001b[0;34m\u001b[0m\u001b[0m\n\u001b[0;32m--> 524\u001b[0;31m         \u001b[0mresp\u001b[0m \u001b[0;34m=\u001b[0m \u001b[0mself\u001b[0m\u001b[0;34m.\u001b[0m\u001b[0msend\u001b[0m\u001b[0;34m(\u001b[0m\u001b[0mprep\u001b[0m\u001b[0;34m,\u001b[0m \u001b[0;34m**\u001b[0m\u001b[0msend_kwargs\u001b[0m\u001b[0;34m)\u001b[0m\u001b[0;34m\u001b[0m\u001b[0;34m\u001b[0m\u001b[0m\n\u001b[0m\u001b[1;32m    525\u001b[0m \u001b[0;34m\u001b[0m\u001b[0m\n\u001b[1;32m    526\u001b[0m         \u001b[0;32mreturn\u001b[0m \u001b[0mresp\u001b[0m\u001b[0;34m\u001b[0m\u001b[0;34m\u001b[0m\u001b[0m\n",
      "\u001b[0;32m~/opt/anaconda3/lib/python3.7/site-packages/requests/sessions.py\u001b[0m in \u001b[0;36msend\u001b[0;34m(self, request, **kwargs)\u001b[0m\n\u001b[1;32m    635\u001b[0m \u001b[0;34m\u001b[0m\u001b[0m\n\u001b[1;32m    636\u001b[0m         \u001b[0;31m# Send the request\u001b[0m\u001b[0;34m\u001b[0m\u001b[0;34m\u001b[0m\u001b[0;34m\u001b[0m\u001b[0m\n\u001b[0;32m--> 637\u001b[0;31m         \u001b[0mr\u001b[0m \u001b[0;34m=\u001b[0m \u001b[0madapter\u001b[0m\u001b[0;34m.\u001b[0m\u001b[0msend\u001b[0m\u001b[0;34m(\u001b[0m\u001b[0mrequest\u001b[0m\u001b[0;34m,\u001b[0m \u001b[0;34m**\u001b[0m\u001b[0mkwargs\u001b[0m\u001b[0;34m)\u001b[0m\u001b[0;34m\u001b[0m\u001b[0;34m\u001b[0m\u001b[0m\n\u001b[0m\u001b[1;32m    638\u001b[0m \u001b[0;34m\u001b[0m\u001b[0m\n\u001b[1;32m    639\u001b[0m         \u001b[0;31m# Total elapsed time of the request (approximately)\u001b[0m\u001b[0;34m\u001b[0m\u001b[0;34m\u001b[0m\u001b[0;34m\u001b[0m\u001b[0m\n",
      "\u001b[0;32m~/opt/anaconda3/lib/python3.7/site-packages/requests/adapters.py\u001b[0m in \u001b[0;36msend\u001b[0;34m(self, request, stream, timeout, verify, cert, proxies)\u001b[0m\n\u001b[1;32m    527\u001b[0m                 \u001b[0;32mraise\u001b[0m \u001b[0mSSLError\u001b[0m\u001b[0;34m(\u001b[0m\u001b[0me\u001b[0m\u001b[0;34m,\u001b[0m \u001b[0mrequest\u001b[0m\u001b[0;34m=\u001b[0m\u001b[0mrequest\u001b[0m\u001b[0;34m)\u001b[0m\u001b[0;34m\u001b[0m\u001b[0;34m\u001b[0m\u001b[0m\n\u001b[1;32m    528\u001b[0m             \u001b[0;32melif\u001b[0m \u001b[0misinstance\u001b[0m\u001b[0;34m(\u001b[0m\u001b[0me\u001b[0m\u001b[0;34m,\u001b[0m \u001b[0mReadTimeoutError\u001b[0m\u001b[0;34m)\u001b[0m\u001b[0;34m:\u001b[0m\u001b[0;34m\u001b[0m\u001b[0;34m\u001b[0m\u001b[0m\n\u001b[0;32m--> 529\u001b[0;31m                 \u001b[0;32mraise\u001b[0m \u001b[0mReadTimeout\u001b[0m\u001b[0;34m(\u001b[0m\u001b[0me\u001b[0m\u001b[0;34m,\u001b[0m \u001b[0mrequest\u001b[0m\u001b[0;34m=\u001b[0m\u001b[0mrequest\u001b[0m\u001b[0;34m)\u001b[0m\u001b[0;34m\u001b[0m\u001b[0;34m\u001b[0m\u001b[0m\n\u001b[0m\u001b[1;32m    530\u001b[0m             \u001b[0;32melse\u001b[0m\u001b[0;34m:\u001b[0m\u001b[0;34m\u001b[0m\u001b[0;34m\u001b[0m\u001b[0m\n\u001b[1;32m    531\u001b[0m                 \u001b[0;32mraise\u001b[0m\u001b[0;34m\u001b[0m\u001b[0;34m\u001b[0m\u001b[0m\n",
      "\u001b[0;31mReadTimeout\u001b[0m: HTTPSConnectionPool(host='stats.nba.com', port=443): Read timed out. (read timeout=30)"
     ]
    }
   ],
   "source": [
    "hawks_games = leaguegamefinder.LeagueGameFinder(team_id_nullable=hawks_id).get_data_frames()[0] \n",
    "celtics_games = leaguegamefinder.LeagueGameFinder(team_id_nullable=celtics_id).get_data_frames()[0] \n",
    "time.sleep(random.randint(1, 10) / 10)\n",
    "nets_games = leaguegamefinder.LeagueGameFinder(team_id_nullable=nets_id).get_data_frames()[0] \n",
    "hornets_games = leaguegamefinder.LeagueGameFinder(team_id_nullable=hornets_id).get_data_frames()[0] \n",
    "bulls_games = leaguegamefinder.LeagueGameFinder(team_id_nullable=bulls_id).get_data_frames()[0] \n",
    "cavaliers_games = leaguegamefinder.LeagueGameFinder(team_id_nullable=cavaliers_id).get_data_frames()[0]\n",
    "time.sleep(random.randint(1, 10) / 10)\n",
    "mavericks_games = leaguegamefinder.LeagueGameFinder(team_id_nullable=mavericks_id).get_data_frames()[0] \n",
    "nuggets_games = leaguegamefinder.LeagueGameFinder(team_id_nullable=nuggets_id).get_data_frames()[0] \n",
    "pistons_games = leaguegamefinder.LeagueGameFinder(team_id_nullable=pistons_id).get_data_frames()[0] \n",
    "warriors_games = leaguegamefinder.LeagueGameFinder(team_id_nullable=warriors_id).get_data_frames()[0] \n",
    "rockets_games = leaguegamefinder.LeagueGameFinder(team_id_nullable=rockets_id).get_data_frames()[0] \n",
    "pacers_games = leaguegamefinder.LeagueGameFinder(team_id_nullable=pacers_id).get_data_frames()[0] \n",
    "clippers_games = leaguegamefinder.LeagueGameFinder(team_id_nullable=clippers_id).get_data_frames()[0] \n",
    "time.sleep(random.randint(1, 10) / 10)\n",
    "lakers_games = leaguegamefinder.LeagueGameFinder(team_id_nullable=lakers_id).get_data_frames()[0] \n",
    "grizzlies_games = leaguegamefinder.LeagueGameFinder(team_id_nullable=grizzlies_id).get_data_frames()[0] \n",
    "heat_games = leaguegamefinder.LeagueGameFinder(team_id_nullable=heat_id).get_data_frames()[0] \n",
    "bucks_games = leaguegamefinder.LeagueGameFinder(team_id_nullable=bucks_id).get_data_frames()[0] \n",
    "timberwolves_games = leaguegamefinder.LeagueGameFinder(team_id_nullable=timberwolves_id).get_data_frames()[0] \n",
    "pelicans_games = leaguegamefinder.LeagueGameFinder(team_id_nullable=pelicans_id).get_data_frames()[0] \n",
    "time.sleep(random.randint(1, 10) / 10)\n",
    "knicks_games = leaguegamefinder.LeagueGameFinder(team_id_nullable=knicks_id).get_data_frames()[0] \n",
    "thunder_games = leaguegamefinder.LeagueGameFinder(team_id_nullable=thunder_id).get_data_frames()[0] \n",
    "magic_games = leaguegamefinder.LeagueGameFinder(team_id_nullable=magic_id).get_data_frames()[0] \n",
    "sixers_games = leaguegamefinder.LeagueGameFinder(team_id_nullable=sixers_id).get_data_frames()[0] \n",
    "suns_games = leaguegamefinder.LeagueGameFinder(team_id_nullable=suns_id).get_data_frames()[0] \n",
    "blazers_games = leaguegamefinder.LeagueGameFinder(team_id_nullable=blazers_id).get_data_frames()[0] \n",
    "kings_games = leaguegamefinder.LeagueGameFinder(team_id_nullable=kings_id).get_data_frames()[0] \n",
    "time.sleep(random.randint(1, 10) / 10)\n",
    "spurs_games = leaguegamefinder.LeagueGameFinder(team_id_nullable=spurs_id).get_data_frames()[0] \n",
    "raptors_games = leaguegamefinder.LeagueGameFinder(team_id_nullable=raptors_id).get_data_frames()[0] \n",
    "jazz_games = leaguegamefinder.LeagueGameFinder(team_id_nullable=jazz_id).get_data_frames()[0] \n",
    "wizards_games = leaguegamefinder.LeagueGameFinder(team_id_nullable=wizards_id).get_data_frames()[0] "
   ]
  },
  {
   "cell_type": "code",
   "execution_count": null,
   "metadata": {},
   "outputs": [],
   "source": [
    "df = pd.concat([hawks_games,celtics_games,nets_games,\n",
    "                                    hornets_games,bulls_games,cavaliers_games,\n",
    "                                    mavericks_games,nuggets_games,pistons_games,\n",
    "                                    warriors_games,rockets_games,pacers_games,\n",
    "                                    clippers_games,lakers_games,grizzlies_games,\n",
    "                                    heat_games,bucks_games,timberwolves_games,\n",
    "                                    pelicans_games,knicks_games,thunder_games,\n",
    "                                    magic_games,sixers_games,suns_games,blazers_games,\n",
    "                                    kings_games,spurs_games,raptors_games,jazz_games,wizards_games])"
   ]
  },
  {
   "cell_type": "code",
   "execution_count": null,
   "metadata": {},
   "outputs": [],
   "source": [
    "df.columns = map(str.lower, df.columns)"
   ]
  },
  {
   "cell_type": "code",
   "execution_count": null,
   "metadata": {},
   "outputs": [],
   "source": [
    "df.info()"
   ]
  },
  {
   "cell_type": "code",
   "execution_count": null,
   "metadata": {},
   "outputs": [],
   "source": [
    "df['wl'] = df['wl'].fillna('L')"
   ]
  },
  {
   "cell_type": "code",
   "execution_count": null,
   "metadata": {},
   "outputs": [],
   "source": [
    "df = df.fillna(0)"
   ]
  },
  {
   "cell_type": "code",
   "execution_count": null,
   "metadata": {},
   "outputs": [],
   "source": [
    "df['opp_score'] = (df['pts'] - df['plus_minus'])"
   ]
  },
  {
   "cell_type": "code",
   "execution_count": null,
   "metadata": {},
   "outputs": [],
   "source": [
    "df['home_team'] = df['matchup'].str.split('@ ').str[-1]"
   ]
  },
  {
   "cell_type": "code",
   "execution_count": null,
   "metadata": {},
   "outputs": [],
   "source": [
    "df['away_team'] = df['matchup'].str.split('vs.' ).str[-1]"
   ]
  },
  {
   "cell_type": "code",
   "execution_count": null,
   "metadata": {},
   "outputs": [],
   "source": [
    "df['home_team'] = df['home_team'].str.split(' vs.').str[0]"
   ]
  },
  {
   "cell_type": "code",
   "execution_count": null,
   "metadata": {},
   "outputs": [],
   "source": [
    "df['away_team'] = df['away_team'].str.split(' @').str[0]"
   ]
  },
  {
   "cell_type": "code",
   "execution_count": null,
   "metadata": {},
   "outputs": [],
   "source": [
    "df['home_game'] = (df['home_team'] == df['team_abbreviation'])"
   ]
  },
  {
   "cell_type": "code",
   "execution_count": null,
   "metadata": {},
   "outputs": [],
   "source": [
    "df['away_game'] = (df['away_team'] == df['team_abbreviation'])"
   ]
  },
  {
   "cell_type": "code",
   "execution_count": null,
   "metadata": {},
   "outputs": [],
   "source": [
    "df['ts_a'] = (df['fga'] + (.44*df['fta']))"
   ]
  },
  {
   "cell_type": "code",
   "execution_count": null,
   "metadata": {},
   "outputs": [],
   "source": [
    "df['ts_pct'] = (df['pts']/ (2*df['ts_a']))"
   ]
  },
  {
   "cell_type": "code",
   "execution_count": null,
   "metadata": {},
   "outputs": [],
   "source": [
    "df['to_pct'] = (df['tov'] / df['min'])"
   ]
  },
  {
   "cell_type": "code",
   "execution_count": null,
   "metadata": {},
   "outputs": [],
   "source": [
    "df['to_pct'] = df['to_pct'].fillna(0)"
   ]
  },
  {
   "cell_type": "code",
   "execution_count": null,
   "metadata": {},
   "outputs": [],
   "source": [
    "df['year'] = df['game_date'].str.split('-').str[0]"
   ]
  },
  {
   "cell_type": "code",
   "execution_count": null,
   "metadata": {},
   "outputs": [],
   "source": [
    "df['month'] = df['game_date'].str.split('-').str[1]"
   ]
  },
  {
   "cell_type": "code",
   "execution_count": null,
   "metadata": {},
   "outputs": [],
   "source": [
    "df['day'] = df['game_date'].str.split('-').str[2]"
   ]
  },
  {
   "cell_type": "code",
   "execution_count": null,
   "metadata": {},
   "outputs": [],
   "source": [
    "df['opponent'] = df['matchup'].str.split(' ').str[2]"
   ]
  },
  {
   "cell_type": "code",
   "execution_count": null,
   "metadata": {},
   "outputs": [],
   "source": [
    "df.drop(df.loc[df['wl']=='O'].index, inplace=True)"
   ]
  },
  {
   "cell_type": "code",
   "execution_count": null,
   "metadata": {},
   "outputs": [],
   "source": [
    "df.drop(df.loc[df['wl']=='T'].index, inplace=True)"
   ]
  },
  {
   "cell_type": "code",
   "execution_count": null,
   "metadata": {},
   "outputs": [],
   "source": [
    "df.head(1)"
   ]
  },
  {
   "cell_type": "code",
   "execution_count": null,
   "metadata": {},
   "outputs": [],
   "source": [
    "df['team_name'].value_counts()"
   ]
  },
  {
   "cell_type": "code",
   "execution_count": null,
   "metadata": {},
   "outputs": [],
   "source": []
  },
  {
   "cell_type": "code",
   "execution_count": null,
   "metadata": {},
   "outputs": [],
   "source": [
    "## HERE"
   ]
  },
  {
   "cell_type": "code",
   "execution_count": 42,
   "metadata": {},
   "outputs": [],
   "source": [
    "df = pd.read_csv('data/allteams_allgames.csv')"
   ]
  },
  {
   "cell_type": "code",
   "execution_count": null,
   "metadata": {},
   "outputs": [],
   "source": [
    "df['game_date'] = df['game_date'].apply(pd.to_datetime)"
   ]
  },
  {
   "cell_type": "code",
   "execution_count": null,
   "metadata": {},
   "outputs": [],
   "source": [
    "df = df[df.game_date > '2018-10-1']"
   ]
  },
  {
   "cell_type": "code",
   "execution_count": null,
   "metadata": {},
   "outputs": [],
   "source": [
    "df = df[df.game_date < '2019-10-1']"
   ]
  },
  {
   "cell_type": "code",
   "execution_count": null,
   "metadata": {},
   "outputs": [],
   "source": [
    "df.head(1)"
   ]
  },
  {
   "cell_type": "code",
   "execution_count": null,
   "metadata": {},
   "outputs": [],
   "source": [
    "df.tail(1)"
   ]
  },
  {
   "cell_type": "code",
   "execution_count": null,
   "metadata": {},
   "outputs": [],
   "source": [
    "X = (\n",
    "    df\n",
    "    .groupby('team_name')\n",
    "    ['pts']\n",
    "    .rolling(5)\n",
    "    .mean()\n",
    "    .reset_index()\n",
    "    .rename(columns={'level_1':'index'})\n",
    "    .set_index('index')\n",
    "    .dropna(subset=['pts'])\n",
    "   [['team_name','pts']]\n",
    ")"
   ]
  },
  {
   "cell_type": "code",
   "execution_count": null,
   "metadata": {},
   "outputs": [],
   "source": [
    "X.shape"
   ]
  },
  {
   "cell_type": "code",
   "execution_count": null,
   "metadata": {},
   "outputs": [],
   "source": [
    "y = df_2019[['team_name','wl']].groupby('team_name').shift(-1)"
   ]
  },
  {
   "cell_type": "code",
   "execution_count": null,
   "metadata": {},
   "outputs": [],
   "source": [
    "y = y.dropna(subset=['wl'])"
   ]
  },
  {
   "cell_type": "code",
   "execution_count": null,
   "metadata": {},
   "outputs": [],
   "source": [
    "y.shape"
   ]
  },
  {
   "cell_type": "code",
   "execution_count": null,
   "metadata": {},
   "outputs": [],
   "source": [
    "y = df_2019[['team_name','pts']].groupby('team_name').shift(-1)\n"
   ]
  },
  {
   "cell_type": "code",
   "execution_count": null,
   "metadata": {},
   "outputs": [],
   "source": [
    "y"
   ]
  },
  {
   "cell_type": "code",
   "execution_count": null,
   "metadata": {},
   "outputs": [],
   "source": [
    "y"
   ]
  },
  {
   "cell_type": "code",
   "execution_count": null,
   "metadata": {},
   "outputs": [],
   "source": [
    "df.info()"
   ]
  },
  {
   "cell_type": "code",
   "execution_count": null,
   "metadata": {},
   "outputs": [],
   "source": [
    "#df1 = df.loc[df['home_game']==True]"
   ]
  },
  {
   "cell_type": "code",
   "execution_count": null,
   "metadata": {},
   "outputs": [],
   "source": [
    "#df1['home_score'] = df1['pts']"
   ]
  },
  {
   "cell_type": "code",
   "execution_count": null,
   "metadata": {},
   "outputs": [],
   "source": [
    "#df1['away_score'] =df1['opp_score']"
   ]
  },
  {
   "cell_type": "code",
   "execution_count": null,
   "metadata": {},
   "outputs": [],
   "source": [
    "#df2 = df.loc[df['away_game']==True]"
   ]
  },
  {
   "cell_type": "code",
   "execution_count": null,
   "metadata": {},
   "outputs": [],
   "source": [
    "#df2['home_score'] = df2['opp_score']"
   ]
  },
  {
   "cell_type": "code",
   "execution_count": null,
   "metadata": {},
   "outputs": [],
   "source": [
    "#df2['away_score'] = df2['pts']"
   ]
  },
  {
   "cell_type": "code",
   "execution_count": null,
   "metadata": {},
   "outputs": [],
   "source": [
    "#df1"
   ]
  },
  {
   "cell_type": "code",
   "execution_count": null,
   "metadata": {},
   "outputs": [],
   "source": [
    "#df2"
   ]
  },
  {
   "cell_type": "code",
   "execution_count": null,
   "metadata": {},
   "outputs": [],
   "source": [
    "#df = pd.concat([df1, df2])"
   ]
  },
  {
   "cell_type": "code",
   "execution_count": null,
   "metadata": {},
   "outputs": [],
   "source": [
    "#df['home_win'] = df['away_score'] < df['home_score']"
   ]
  },
  {
   "cell_type": "code",
   "execution_count": null,
   "metadata": {},
   "outputs": [],
   "source": [
    "#n_game = df['home_win'].count()"
   ]
  },
  {
   "cell_type": "code",
   "execution_count": null,
   "metadata": {},
   "outputs": [],
   "source": [
    "#n_homewins = df['home_win'].sum()"
   ]
  },
  {
   "cell_type": "code",
   "execution_count": null,
   "metadata": {},
   "outputs": [],
   "source": [
    "#win_home = n_homewins/n_game\n",
    "#win_home"
   ]
  },
  {
   "cell_type": "code",
   "execution_count": null,
   "metadata": {},
   "outputs": [],
   "source": [
    "#df['home_last_win'] = False\n",
    "#df['away_last_win'] = False"
   ]
  },
  {
   "cell_type": "code",
   "execution_count": null,
   "metadata": {},
   "outputs": [],
   "source": [
    "#from collections import defaultdict"
   ]
  },
  {
   "cell_type": "code",
   "execution_count": null,
   "metadata": {},
   "outputs": [],
   "source": [
    "df.head(5)"
   ]
  },
  {
   "cell_type": "code",
   "execution_count": null,
   "metadata": {},
   "outputs": [],
   "source": [
    "df.to_csv('allteams_allgames.csv')"
   ]
  },
  {
   "cell_type": "code",
   "execution_count": null,
   "metadata": {},
   "outputs": [],
   "source": [
    "## team dashboard by split"
   ]
  },
  {
   "cell_type": "code",
   "execution_count": null,
   "metadata": {},
   "outputs": [],
   "source": [
    "lakers_teamdash = teamdashboardbygeneralsplits.TeamDashboardByGeneralSplits(lakers_id,season=\"2018-19\").get_data_frames()[0]"
   ]
  },
  {
   "cell_type": "code",
   "execution_count": null,
   "metadata": {},
   "outputs": [],
   "source": [
    "lakers_teamdash"
   ]
  },
  {
   "cell_type": "markdown",
   "metadata": {},
   "source": [
    "# SCOREBOARD"
   ]
  },
  {
   "cell_type": "code",
   "execution_count": null,
   "metadata": {},
   "outputs": [],
   "source": [
    "lakers_scoreboard = leaguegamelog.LeagueGameLog().get_data_frames()[0] "
   ]
  },
  {
   "cell_type": "code",
   "execution_count": null,
   "metadata": {},
   "outputs": [],
   "source": [
    "lakers_scoreboard.head(5)"
   ]
  },
  {
   "cell_type": "code",
   "execution_count": null,
   "metadata": {},
   "outputs": [],
   "source": [
    "lakers_scoreboard['opp_score'] = (lakers_scoreboard['PTS'] + lakers_scoreboard['PLUS_MINUS'])"
   ]
  },
  {
   "cell_type": "code",
   "execution_count": null,
   "metadata": {},
   "outputs": [],
   "source": [
    "lakers_scoreboard['trial_home'] = lakers_scoreboard['MATCHUP'].str.split('@').str[-1]"
   ]
  },
  {
   "cell_type": "code",
   "execution_count": null,
   "metadata": {},
   "outputs": [],
   "source": [
    "lakers_scoreboard['trial_away'] = lakers_scoreboard['MATCHUP'].str.split('vs.').str[-1]"
   ]
  },
  {
   "cell_type": "code",
   "execution_count": null,
   "metadata": {},
   "outputs": [],
   "source": [
    "lakers_scoreboard['trial_home'] = lakers_scoreboard['trial_home'].str.split(' vs.').str[0]"
   ]
  },
  {
   "cell_type": "code",
   "execution_count": null,
   "metadata": {},
   "outputs": [],
   "source": [
    "lakers_scoreboard['trial_away'] = lakers_scoreboard['trial_away'].str.split('@').str[0]"
   ]
  },
  {
   "cell_type": "code",
   "execution_count": null,
   "metadata": {},
   "outputs": [],
   "source": [
    "lakers_scoreboard.head(5)"
   ]
  },
  {
   "cell_type": "code",
   "execution_count": null,
   "metadata": {},
   "outputs": [],
   "source": [
    "## doesn't deliver proper ranks\n",
    "lakers_yearbystats = teamyearbyyearstats.TeamYearByYearStats(lakers_id).get_data_frames()[0]"
   ]
  },
  {
   "cell_type": "code",
   "execution_count": null,
   "metadata": {
    "scrolled": true
   },
   "outputs": [],
   "source": [
    "lakers_yearbystats"
   ]
  },
  {
   "cell_type": "code",
   "execution_count": null,
   "metadata": {},
   "outputs": [],
   "source": [
    "teamdashboardbyteamperformance.TeamDashboardByTeamPerformance(lakers_id).get_data_frames()[0]"
   ]
  },
  {
   "cell_type": "code",
   "execution_count": null,
   "metadata": {},
   "outputs": [],
   "source": [
    "teamdashlineups.TeamDashLineups(lakers_id).get_data_frames()[0]"
   ]
  },
  {
   "cell_type": "code",
   "execution_count": null,
   "metadata": {},
   "outputs": [],
   "source": [
    "leader_2017 = leaderstiles.LeadersTiles(season='2017-18').get_data_frames()[0]"
   ]
  },
  {
   "cell_type": "code",
   "execution_count": null,
   "metadata": {},
   "outputs": [],
   "source": [
    "leader_2017.head(30)"
   ]
  },
  {
   "cell_type": "markdown",
   "metadata": {},
   "source": [
    "## PLAYER DATA"
   ]
  },
  {
   "cell_type": "code",
   "execution_count": null,
   "metadata": {},
   "outputs": [],
   "source": [
    "player_dict = players.get_players()"
   ]
  },
  {
   "cell_type": "code",
   "execution_count": null,
   "metadata": {},
   "outputs": [],
   "source": [
    "all_players = [player for player in player_dict if player['id']>= 0]"
   ]
  },
  {
   "cell_type": "code",
   "execution_count": null,
   "metadata": {},
   "outputs": [],
   "source": [
    "all_players_active = [player for player in player_dict if player['id']>= 0 and player['is_active'] != False]"
   ]
  },
  {
   "cell_type": "code",
   "execution_count": null,
   "metadata": {},
   "outputs": [],
   "source": [
    "lebron = [player for player in player_dict if player['full_name'] == 'LeBron James'][0]\n",
    "jordan = [player for player in player_dict if player['full_name'] == 'Michael Jordan'][0]\n",
    "curry = [player for player in player_dict if player['full_name'] == 'Stephen Curry'][0]\n",
    "kawhi = [player for player in player_dict if player['full_name'] == 'Kawhi Leonard'][0]"
   ]
  },
  {
   "cell_type": "code",
   "execution_count": null,
   "metadata": {},
   "outputs": [],
   "source": [
    "lebron_id = lebron['id']\n",
    "jordan_id = jordan['id']\n",
    "curry_id = curry['id']\n",
    "kawhi_id = kawhi['id']"
   ]
  },
  {
   "cell_type": "code",
   "execution_count": null,
   "metadata": {},
   "outputs": [],
   "source": [
    "gamelog_bron = playergamelog.PlayerGameLog(player_id=lebron_id,season=SeasonAll.all)\n",
    "gamelog_jordan = playergamelog.PlayerGameLog(player_id=jordan_id,season=SeasonAll.all)\n",
    "gamelog_curry = playergamelog.PlayerGameLog(player_id=curry_id,season=SeasonAll.all)\n",
    "gamelog_kawhi = playergamelog.PlayerGameLog(player_id=kawhi_id,season=SeasonAll.all)"
   ]
  },
  {
   "cell_type": "code",
   "execution_count": null,
   "metadata": {},
   "outputs": [],
   "source": [
    "gamelog_bron_df = gamelog_bron.get_data_frames()[0]\n",
    "gamelog_jordan_df = gamelog_jordan.get_data_frames()[0]\n",
    "gamelog_curry_df = gamelog_curry.get_data_frames()[0]\n",
    "gamelog_kawhi_df = gamelog_kawhi.get_data_frames()[0]"
   ]
  },
  {
   "cell_type": "code",
   "execution_count": null,
   "metadata": {},
   "outputs": [],
   "source": [
    "gamelog_jordan_df"
   ]
  },
  {
   "cell_type": "code",
   "execution_count": null,
   "metadata": {},
   "outputs": [],
   "source": [
    "df = pd.concat([gamelog_bron_df,gamelog_curry_df,gamelog_jordan_df,gamelog_kawhi_df])"
   ]
  },
  {
   "cell_type": "code",
   "execution_count": null,
   "metadata": {},
   "outputs": [],
   "source": [
    "df.info()"
   ]
  },
  {
   "cell_type": "code",
   "execution_count": null,
   "metadata": {},
   "outputs": [],
   "source": [
    "lebron_shot = shotchartdetail.ShotChartDetail(team_id=lakers_id,\n",
    "                                              player_id=lebron_id,last_n_games=5000).get_data_frames()[0]"
   ]
  },
  {
   "cell_type": "code",
   "execution_count": null,
   "metadata": {},
   "outputs": [],
   "source": [
    "lebron_shot['SHOT_ZONE_BASIC'].value_counts()"
   ]
  },
  {
   "cell_type": "code",
   "execution_count": null,
   "metadata": {},
   "outputs": [],
   "source": [
    "lebron_vs = playervsplayer.PlayerVsPlayer(vs_player_id=lebron_id,\n",
    "                                          player_id=kawhi_id,\n",
    "                                         season='2016-17').get_data_frames()[0]"
   ]
  },
  {
   "cell_type": "code",
   "execution_count": null,
   "metadata": {},
   "outputs": [],
   "source": [
    "lebron_vs"
   ]
  },
  {
   "cell_type": "code",
   "execution_count": 52,
   "metadata": {},
   "outputs": [],
   "source": [
    "bio_stats_1999 = leaguedashplayerbiostats.LeagueDashPlayerBioStats(league_id='00', season='1998-99').get_data_frames()[0]\n",
    "time.sleep(random.randint(1, 10) / 10)\n",
    "bio_stats_2000 = leaguedashplayerbiostats.LeagueDashPlayerBioStats(league_id='00', season='1999-00').get_data_frames()[0]\n",
    "bio_stats_2001 = leaguedashplayerbiostats.LeagueDashPlayerBioStats(league_id='00', season='2000-01').get_data_frames()[0]\n",
    "bio_stats_2002 = leaguedashplayerbiostats.LeagueDashPlayerBioStats(league_id='00', season='2001-02').get_data_frames()[0]\n",
    "bio_stats_2003 = leaguedashplayerbiostats.LeagueDashPlayerBioStats(league_id='00', season='2002-03').get_data_frames()[0]\n",
    "time.sleep(random.randint(1, 10) / 10)\n",
    "bio_stats_2004 = leaguedashplayerbiostats.LeagueDashPlayerBioStats(league_id='00', season='2003-04').get_data_frames()[0]\n",
    "bio_stats_2005 = leaguedashplayerbiostats.LeagueDashPlayerBioStats(league_id='00', season='2004-05').get_data_frames()[0]\n",
    "bio_stats_2006 = leaguedashplayerbiostats.LeagueDashPlayerBioStats(league_id='00', season='2005-06').get_data_frames()[0]\n",
    "bio_stats_2007 = leaguedashplayerbiostats.LeagueDashPlayerBioStats(league_id='00', season='2006-07').get_data_frames()[0]\n",
    "time.sleep(random.randint(1, 10) / 10)\n",
    "bio_stats_2008 = leaguedashplayerbiostats.LeagueDashPlayerBioStats(league_id='00', season='2007-08').get_data_frames()[0]\n",
    "bio_stats_2009 = leaguedashplayerbiostats.LeagueDashPlayerBioStats(league_id='00', season='2008-09').get_data_frames()[0]\n",
    "bio_stats_2010 = leaguedashplayerbiostats.LeagueDashPlayerBioStats(league_id='00', season='2009-10').get_data_frames()[0]\n",
    "bio_stats_2011 = leaguedashplayerbiostats.LeagueDashPlayerBioStats(league_id='00', season='2010-11').get_data_frames()[0]\n",
    "time.sleep(random.randint(1, 10) / 10)\n",
    "bio_stats_2012 = leaguedashplayerbiostats.LeagueDashPlayerBioStats(league_id='00', season='2011-12').get_data_frames()[0]\n",
    "bio_stats_2013 = leaguedashplayerbiostats.LeagueDashPlayerBioStats(league_id='00', season='2012-13').get_data_frames()[0]\n",
    "bio_stats_2014 = leaguedashplayerbiostats.LeagueDashPlayerBioStats(league_id='00', season='2013-14').get_data_frames()[0]\n",
    "bio_stats_2015 = leaguedashplayerbiostats.LeagueDashPlayerBioStats(league_id='00', season='2014-15').get_data_frames()[0]\n",
    "bio_stats_2016 = leaguedashplayerbiostats.LeagueDashPlayerBioStats(league_id='00', season='2015-16').get_data_frames()[0]\n",
    "time.sleep(random.randint(1, 10) / 10)\n",
    "bio_stats_2017 = leaguedashplayerbiostats.LeagueDashPlayerBioStats(league_id='00', season='2016-17').get_data_frames()[0]\n",
    "bio_stats_2018 = leaguedashplayerbiostats.LeagueDashPlayerBioStats(league_id='00', season='2017-18').get_data_frames()[0]\n",
    "bio_stats_2019 = leaguedashplayerbiostats.LeagueDashPlayerBioStats(league_id='00', season='2018-19').get_data_frames()[0]\n",
    "bio_stats_2020 = leaguedashplayerbiostats.LeagueDashPlayerBioStats(league_id='00', season='2019-20').get_data_frames()[0]"
   ]
  },
  {
   "cell_type": "code",
   "execution_count": 53,
   "metadata": {},
   "outputs": [],
   "source": [
    "bio_stats = pd.concat([bio_stats_1999,bio_stats_2000,bio_stats_2001,\n",
    "          bio_stats_2002,bio_stats_2003,bio_stats_2004,\n",
    "          bio_stats_2005,bio_stats_2006,bio_stats_2007,\n",
    "          bio_stats_2008,bio_stats_2009,bio_stats_2010,\n",
    "          bio_stats_2011,bio_stats_2012,bio_stats_2013,bio_stats_2014,\n",
    "          bio_stats_2015,bio_stats_2016,bio_stats_2017,bio_stats_2018,\n",
    "          bio_stats_2019,bio_stats_2020])"
   ]
  },
  {
   "cell_type": "code",
   "execution_count": 54,
   "metadata": {},
   "outputs": [
    {
     "name": "stdout",
     "output_type": "stream",
     "text": [
      "<class 'pandas.core.frame.DataFrame'>\n",
      "Int64Index: 10259 entries, 0 to 505\n",
      "Data columns (total 23 columns):\n",
      "PLAYER_ID               10259 non-null int64\n",
      "PLAYER_NAME             10258 non-null object\n",
      "TEAM_ID                 10258 non-null float64\n",
      "TEAM_ABBREVIATION       10258 non-null object\n",
      "AGE                     10258 non-null float64\n",
      "PLAYER_HEIGHT           10187 non-null object\n",
      "PLAYER_HEIGHT_INCHES    10187 non-null float64\n",
      "PLAYER_WEIGHT           10252 non-null object\n",
      "COLLEGE                 10259 non-null object\n",
      "COUNTRY                 10239 non-null object\n",
      "DRAFT_YEAR              10259 non-null object\n",
      "DRAFT_ROUND             10248 non-null object\n",
      "DRAFT_NUMBER            10248 non-null object\n",
      "GP                      10259 non-null int64\n",
      "PTS                     10259 non-null int64\n",
      "REB                     10259 non-null int64\n",
      "AST                     10259 non-null int64\n",
      "NET_RATING              10259 non-null float64\n",
      "OREB_PCT                10259 non-null float64\n",
      "DREB_PCT                10259 non-null float64\n",
      "USG_PCT                 10259 non-null float64\n",
      "TS_PCT                  10259 non-null float64\n",
      "AST_PCT                 10259 non-null float64\n",
      "dtypes: float64(9), int64(5), object(9)\n",
      "memory usage: 1.9+ MB\n"
     ]
    }
   ],
   "source": [
    "bio_stats.info()"
   ]
  },
  {
   "cell_type": "code",
   "execution_count": null,
   "metadata": {},
   "outputs": [],
   "source": [
    "bio_stats.columns = map(str.lower, bio_stats.columns)"
   ]
  },
  {
   "cell_type": "code",
   "execution_count": null,
   "metadata": {},
   "outputs": [],
   "source": [
    "bio_stats.to_csv('bio_stats.csv')"
   ]
  },
  {
   "cell_type": "code",
   "execution_count": 3,
   "metadata": {},
   "outputs": [],
   "source": [
    "df = pd.read_csv('data/bio_stats.csv')"
   ]
  },
  {
   "cell_type": "code",
   "execution_count": 4,
   "metadata": {},
   "outputs": [
    {
     "data": {
      "text/plain": [
       "289"
      ]
     },
     "execution_count": 4,
     "metadata": {},
     "output_type": "execute_result"
    }
   ],
   "source": [
    "len(df['college'].unique())"
   ]
  },
  {
   "cell_type": "code",
   "execution_count": null,
   "metadata": {},
   "outputs": [],
   "source": [
    "all_players_gamelog = playergamelog.PlayerGameLog(player_id=lebron_id,season=SeasonAll.all)\n",
    "gamelog_jordan = playergamelog.PlayerGameLog(player_id=jordan_id,season=SeasonAll.all)\n",
    "gamelog_curry = playergamelog.PlayerGameLog(player_id=curry_id,season=SeasonAll.all)\n",
    "gamelog_kawhi = playergamelog.PlayerGameLog(player_id=kawhi_id,season=SeasonAll.all)"
   ]
  },
  {
   "cell_type": "markdown",
   "metadata": {},
   "source": [
    "## Bayesian DF's"
   ]
  },
  {
   "cell_type": "code",
   "execution_count": null,
   "metadata": {},
   "outputs": [],
   "source": [
    "raptors_2018_games = teamgamelog.TeamGameLog(team_id=raptors_id,season='2018-19').get_data_frames()[0] "
   ]
  },
  {
   "cell_type": "code",
   "execution_count": null,
   "metadata": {},
   "outputs": [],
   "source": [
    "raptors_2018_games"
   ]
  },
  {
   "cell_type": "code",
   "execution_count": null,
   "metadata": {},
   "outputs": [],
   "source": [
    "toronto_df = pd.read_csv('data/toronto_2018-19.csv')\n",
    "memphis_df = pd.read_csv('data/memphis_2018-19.csv')"
   ]
  },
  {
   "cell_type": "code",
   "execution_count": null,
   "metadata": {},
   "outputs": [],
   "source": [
    "toronto_df['+/-'] = (toronto_df['PF']-toronto_df['PA'])\n",
    "memphis_df['+/-'] = (memphis_df['PF']-memphis_df['PA'])"
   ]
  },
  {
   "cell_type": "code",
   "execution_count": null,
   "metadata": {},
   "outputs": [],
   "source": [
    "df = pd.read_csv('data/memphis_raptors.csv')"
   ]
  },
  {
   "cell_type": "code",
   "execution_count": null,
   "metadata": {},
   "outputs": [],
   "source": [
    "df.head(1)"
   ]
  },
  {
   "cell_type": "code",
   "execution_count": null,
   "metadata": {},
   "outputs": [],
   "source": [
    "import matplotlib.pyplot as plt\n",
    "import numpy as np\n",
    "import pymc3 as pm"
   ]
  },
  {
   "cell_type": "code",
   "execution_count": null,
   "metadata": {},
   "outputs": [],
   "source": [
    "plt.style.use('seaborn')\n",
    "fig, ax = plt.subplots(nrows=2, ncols=1, sharex=False, sharey=False,figsize=(15,8))\n",
    "\n",
    "ax[0].bar(df['Date'],df['toronto_+/-'], color='purple', label = 'Raptors +/-')\n",
    "ax[1].bar(df['Date'],df['memphis_+/-'], color='cyan', label = 'Memphis +/-')\n",
    "ax[0].legend(loc='upper left')\n",
    "ax[1].legend()\n",
    "plt.show()"
   ]
  },
  {
   "cell_type": "code",
   "execution_count": null,
   "metadata": {},
   "outputs": [],
   "source": [
    "with pm.Model() as model:\n",
    "    lambda_1 = pm.Normal('lambda_1', -10, 10)\n",
    "    lambda_2 = pm.Normal('lambda_2', -10, 10)\n",
    "    tau = pm.DiscreteUniform(\"tau\", lower=5, upper=70)\n",
    "\n",
    "    idx = np.arange(len(df)) # Index\n",
    "    lambda_ = pm.math.switch(tau > idx, lambda_1, lambda_2)\n",
    "\n",
    "    observation = pm.Normal(\"obs\", lambda_, observed=df['toronto_+/-'])\n",
    "    trace = pm.sample(10000, tune=1000, chains=2)"
   ]
  },
  {
   "cell_type": "code",
   "execution_count": null,
   "metadata": {},
   "outputs": [],
   "source": [
    "pm.summary(trace)"
   ]
  },
  {
   "cell_type": "code",
   "execution_count": null,
   "metadata": {},
   "outputs": [],
   "source": [
    "(trace['lambda_2'] - trace['lambda_1'] > 0).mean() "
   ]
  },
  {
   "cell_type": "code",
   "execution_count": null,
   "metadata": {},
   "outputs": [],
   "source": [
    "with pm.Model() as model:\n",
    "    lambda_1 = pm.Normal('lambda_1', -10, 10)\n",
    "    lambda_2 = pm.Normal('lambda_2', -10, 10)\n",
    "    tau = pm.DiscreteUniform(\"tau\", lower=5, upper=82)\n",
    "\n",
    "    idx = np.arange(len(df)) # Index\n",
    "    lambda_ = pm.math.switch(tau > idx, lambda_1, lambda_2)\n",
    "\n",
    "    observation = pm.Normal(\"obs\", lambda_, observed=df['memphis_+/-'])\n",
    "    trace = pm.sample(10000, tune=1000, chains=2)"
   ]
  },
  {
   "cell_type": "code",
   "execution_count": null,
   "metadata": {},
   "outputs": [],
   "source": [
    "pm.summary(trace)"
   ]
  },
  {
   "cell_type": "code",
   "execution_count": null,
   "metadata": {},
   "outputs": [],
   "source": [
    "(trace['lambda_2'] - trace['lambda_1'] > 0).mean() "
   ]
  },
  {
   "cell_type": "code",
   "execution_count": 15,
   "metadata": {},
   "outputs": [
    {
     "data": {
      "text/html": [
       "<div>\n",
       "<style scoped>\n",
       "    .dataframe tbody tr th:only-of-type {\n",
       "        vertical-align: middle;\n",
       "    }\n",
       "\n",
       "    .dataframe tbody tr th {\n",
       "        vertical-align: top;\n",
       "    }\n",
       "\n",
       "    .dataframe thead th {\n",
       "        text-align: right;\n",
       "    }\n",
       "</style>\n",
       "<table border=\"1\" class=\"dataframe\">\n",
       "  <thead>\n",
       "    <tr style=\"text-align: right;\">\n",
       "      <th></th>\n",
       "      <th>Unnamed: 0</th>\n",
       "      <th>season_id</th>\n",
       "      <th>team_id</th>\n",
       "      <th>team_abbreviation</th>\n",
       "      <th>team_name</th>\n",
       "      <th>game_id</th>\n",
       "      <th>game_date</th>\n",
       "      <th>matchup</th>\n",
       "      <th>wl</th>\n",
       "      <th>min</th>\n",
       "      <th>pts</th>\n",
       "      <th>fgm</th>\n",
       "      <th>fga</th>\n",
       "      <th>fg_pct</th>\n",
       "      <th>fg3m</th>\n",
       "      <th>fg3a</th>\n",
       "      <th>fg3_pct</th>\n",
       "      <th>ftm</th>\n",
       "      <th>fta</th>\n",
       "      <th>ft_pct</th>\n",
       "      <th>oreb</th>\n",
       "      <th>dreb</th>\n",
       "      <th>reb</th>\n",
       "      <th>ast</th>\n",
       "      <th>stl</th>\n",
       "      <th>blk</th>\n",
       "      <th>tov</th>\n",
       "      <th>pf</th>\n",
       "      <th>plus_minus</th>\n",
       "      <th>opp_score</th>\n",
       "      <th>home_team</th>\n",
       "      <th>away_team</th>\n",
       "      <th>home_game</th>\n",
       "      <th>away_game</th>\n",
       "      <th>ts_a</th>\n",
       "      <th>ts_pct</th>\n",
       "      <th>to_pct</th>\n",
       "      <th>year</th>\n",
       "      <th>month</th>\n",
       "      <th>day</th>\n",
       "      <th>opponent</th>\n",
       "    </tr>\n",
       "  </thead>\n",
       "  <tbody>\n",
       "    <tr>\n",
       "      <td>0</td>\n",
       "      <td>0</td>\n",
       "      <td>22019</td>\n",
       "      <td>1610612737</td>\n",
       "      <td>ATL</td>\n",
       "      <td>Atlanta Hawks</td>\n",
       "      <td>21900807</td>\n",
       "      <td>2020-02-12</td>\n",
       "      <td>ATL @ CLE</td>\n",
       "      <td>L</td>\n",
       "      <td>238</td>\n",
       "      <td>105</td>\n",
       "      <td>36</td>\n",
       "      <td>84</td>\n",
       "      <td>0.429</td>\n",
       "      <td>13</td>\n",
       "      <td>34.0</td>\n",
       "      <td>0.382</td>\n",
       "      <td>20</td>\n",
       "      <td>25</td>\n",
       "      <td>0.8</td>\n",
       "      <td>9.0</td>\n",
       "      <td>29.0</td>\n",
       "      <td>38.0</td>\n",
       "      <td>24</td>\n",
       "      <td>11.0</td>\n",
       "      <td>5</td>\n",
       "      <td>17</td>\n",
       "      <td>26</td>\n",
       "      <td>-22.0</td>\n",
       "      <td>83.0</td>\n",
       "      <td>CLE</td>\n",
       "      <td>ATL</td>\n",
       "      <td>False</td>\n",
       "      <td>True</td>\n",
       "      <td>95.0</td>\n",
       "      <td>0.552632</td>\n",
       "      <td>0.071429</td>\n",
       "      <td>2020</td>\n",
       "      <td>2</td>\n",
       "      <td>12</td>\n",
       "      <td>CLE</td>\n",
       "    </tr>\n",
       "  </tbody>\n",
       "</table>\n",
       "</div>"
      ],
      "text/plain": [
       "   Unnamed: 0  season_id     team_id team_abbreviation      team_name  \\\n",
       "0           0      22019  1610612737               ATL  Atlanta Hawks   \n",
       "\n",
       "    game_id   game_date    matchup wl  min  pts  fgm  fga  fg_pct  fg3m  fg3a  \\\n",
       "0  21900807  2020-02-12  ATL @ CLE  L  238  105   36   84   0.429    13  34.0   \n",
       "\n",
       "   fg3_pct  ftm  fta  ft_pct  oreb  dreb   reb  ast   stl  blk  tov  pf  \\\n",
       "0    0.382   20   25     0.8   9.0  29.0  38.0   24  11.0    5   17  26   \n",
       "\n",
       "   plus_minus  opp_score home_team away_team  home_game  away_game  ts_a  \\\n",
       "0       -22.0       83.0       CLE       ATL      False       True  95.0   \n",
       "\n",
       "     ts_pct    to_pct  year  month  day opponent  \n",
       "0  0.552632  0.071429  2020      2   12      CLE  "
      ]
     },
     "execution_count": 15,
     "metadata": {},
     "output_type": "execute_result"
    }
   ],
   "source": [
    "df.head(1)"
   ]
  },
  {
   "cell_type": "code",
   "execution_count": 31,
   "metadata": {},
   "outputs": [
    {
     "name": "stdout",
     "output_type": "stream",
     "text": [
      "<class 'pandas.core.frame.DataFrame'>\n",
      "RangeIndex: 93753 entries, 0 to 93752\n",
      "Data columns (total 41 columns):\n",
      "Unnamed: 0           93753 non-null int64\n",
      "season_id            93753 non-null int64\n",
      "team_id              93753 non-null int64\n",
      "team_abbreviation    93753 non-null object\n",
      "team_name            93753 non-null object\n",
      "game_id              93753 non-null int64\n",
      "game_date            93753 non-null object\n",
      "matchup              93753 non-null object\n",
      "wl                   93753 non-null object\n",
      "min                  93753 non-null int64\n",
      "pts                  93753 non-null int64\n",
      "fgm                  93753 non-null int64\n",
      "fga                  93753 non-null int64\n",
      "fg_pct               93753 non-null float64\n",
      "fg3m                 93753 non-null int64\n",
      "fg3a                 93753 non-null float64\n",
      "fg3_pct              93753 non-null float64\n",
      "ftm                  93753 non-null int64\n",
      "fta                  93753 non-null int64\n",
      "ft_pct               93753 non-null float64\n",
      "oreb                 93753 non-null float64\n",
      "dreb                 93753 non-null float64\n",
      "reb                  93753 non-null float64\n",
      "ast                  93753 non-null int64\n",
      "stl                  93753 non-null float64\n",
      "blk                  93753 non-null int64\n",
      "tov                  93753 non-null int64\n",
      "pf                   93753 non-null int64\n",
      "plus_minus           93753 non-null float64\n",
      "opp_score            93753 non-null float64\n",
      "home_team            93753 non-null object\n",
      "away_team            93753 non-null object\n",
      "home_game            93753 non-null bool\n",
      "away_game            93753 non-null bool\n",
      "ts_a                 93753 non-null float64\n",
      "ts_pct               93749 non-null float64\n",
      "to_pct               93753 non-null float64\n",
      "year                 93753 non-null int64\n",
      "month                93753 non-null int64\n",
      "day                  93753 non-null int64\n",
      "opponent             93753 non-null object\n",
      "dtypes: bool(2), float64(13), int64(18), object(8)\n",
      "memory usage: 28.1+ MB\n"
     ]
    }
   ],
   "source": [
    "df.info()"
   ]
  },
  {
   "cell_type": "code",
   "execution_count": 47,
   "metadata": {},
   "outputs": [],
   "source": [
    "df1 = []\n",
    "for index, row in df.iterrows():\n",
    "    df1.append((row['game_id']))"
   ]
  },
  {
   "cell_type": "code",
   "execution_count": 48,
   "metadata": {},
   "outputs": [
    {
     "data": {
      "text/plain": [
       "21900807"
      ]
     },
     "execution_count": 48,
     "metadata": {},
     "output_type": "execute_result"
    }
   ],
   "source": [
    "df1[0]"
   ]
  },
  {
   "cell_type": "code",
   "execution_count": 12,
   "metadata": {},
   "outputs": [],
   "source": [
    "from nba_api.stats.endpoints import boxscoreadvancedv2"
   ]
  },
  {
   "cell_type": "code",
   "execution_count": null,
   "metadata": {},
   "outputs": [],
   "source": []
  },
  {
   "cell_type": "code",
   "execution_count": 56,
   "metadata": {},
   "outputs": [
    {
     "data": {
      "text/html": [
       "<div>\n",
       "<style scoped>\n",
       "    .dataframe tbody tr th:only-of-type {\n",
       "        vertical-align: middle;\n",
       "    }\n",
       "\n",
       "    .dataframe tbody tr th {\n",
       "        vertical-align: top;\n",
       "    }\n",
       "\n",
       "    .dataframe thead th {\n",
       "        text-align: right;\n",
       "    }\n",
       "</style>\n",
       "<table border=\"1\" class=\"dataframe\">\n",
       "  <thead>\n",
       "    <tr style=\"text-align: right;\">\n",
       "      <th></th>\n",
       "      <th>PLAYER_ID</th>\n",
       "      <th>PLAYER_NAME</th>\n",
       "      <th>TEAM_ID</th>\n",
       "      <th>TEAM_ABBREVIATION</th>\n",
       "      <th>AGE</th>\n",
       "      <th>PLAYER_HEIGHT</th>\n",
       "      <th>PLAYER_HEIGHT_INCHES</th>\n",
       "      <th>PLAYER_WEIGHT</th>\n",
       "      <th>COLLEGE</th>\n",
       "      <th>COUNTRY</th>\n",
       "      <th>DRAFT_YEAR</th>\n",
       "      <th>DRAFT_ROUND</th>\n",
       "      <th>DRAFT_NUMBER</th>\n",
       "      <th>GP</th>\n",
       "      <th>PTS</th>\n",
       "      <th>REB</th>\n",
       "      <th>AST</th>\n",
       "      <th>NET_RATING</th>\n",
       "      <th>OREB_PCT</th>\n",
       "      <th>DREB_PCT</th>\n",
       "      <th>USG_PCT</th>\n",
       "      <th>TS_PCT</th>\n",
       "      <th>AST_PCT</th>\n",
       "    </tr>\n",
       "  </thead>\n",
       "  <tbody>\n",
       "    <tr>\n",
       "      <td>0</td>\n",
       "      <td>1823</td>\n",
       "      <td>None</td>\n",
       "      <td>1.610613e+09</td>\n",
       "      <td>VAN</td>\n",
       "      <td>NaN</td>\n",
       "      <td>None</td>\n",
       "      <td>NaN</td>\n",
       "      <td>None</td>\n",
       "      <td>None</td>\n",
       "      <td>None</td>\n",
       "      <td>Undrafted</td>\n",
       "      <td>Undrafted</td>\n",
       "      <td>Undrafted</td>\n",
       "      <td>4</td>\n",
       "      <td>5</td>\n",
       "      <td>5</td>\n",
       "      <td>1</td>\n",
       "      <td>-8.8</td>\n",
       "      <td>0.100</td>\n",
       "      <td>0.111</td>\n",
       "      <td>0.115</td>\n",
       "      <td>0.434</td>\n",
       "      <td>0.050</td>\n",
       "    </tr>\n",
       "    <tr>\n",
       "      <td>1</td>\n",
       "      <td>920</td>\n",
       "      <td>A.C. Green</td>\n",
       "      <td>1.610613e+09</td>\n",
       "      <td>DAL</td>\n",
       "      <td>35.0</td>\n",
       "      <td>6-9</td>\n",
       "      <td>81.0</td>\n",
       "      <td>225</td>\n",
       "      <td>Oregon State</td>\n",
       "      <td>USA</td>\n",
       "      <td>1985</td>\n",
       "      <td>1</td>\n",
       "      <td>23</td>\n",
       "      <td>50</td>\n",
       "      <td>246</td>\n",
       "      <td>228</td>\n",
       "      <td>25</td>\n",
       "      <td>-5.0</td>\n",
       "      <td>0.086</td>\n",
       "      <td>0.163</td>\n",
       "      <td>0.144</td>\n",
       "      <td>0.441</td>\n",
       "      <td>0.043</td>\n",
       "    </tr>\n",
       "    <tr>\n",
       "      <td>2</td>\n",
       "      <td>243</td>\n",
       "      <td>Aaron McKie</td>\n",
       "      <td>1.610613e+09</td>\n",
       "      <td>PHI</td>\n",
       "      <td>26.0</td>\n",
       "      <td>6-5</td>\n",
       "      <td>77.0</td>\n",
       "      <td>209</td>\n",
       "      <td>Temple</td>\n",
       "      <td>USA</td>\n",
       "      <td>1994</td>\n",
       "      <td>1</td>\n",
       "      <td>17</td>\n",
       "      <td>50</td>\n",
       "      <td>240</td>\n",
       "      <td>140</td>\n",
       "      <td>100</td>\n",
       "      <td>-2.6</td>\n",
       "      <td>0.029</td>\n",
       "      <td>0.120</td>\n",
       "      <td>0.148</td>\n",
       "      <td>0.454</td>\n",
       "      <td>0.183</td>\n",
       "    </tr>\n",
       "    <tr>\n",
       "      <td>3</td>\n",
       "      <td>1425</td>\n",
       "      <td>Aaron Williams</td>\n",
       "      <td>1.610613e+09</td>\n",
       "      <td>SEA</td>\n",
       "      <td>27.0</td>\n",
       "      <td>6-9</td>\n",
       "      <td>81.0</td>\n",
       "      <td>225</td>\n",
       "      <td>Xavier</td>\n",
       "      <td>USA</td>\n",
       "      <td>Undrafted</td>\n",
       "      <td>Undrafted</td>\n",
       "      <td>Undrafted</td>\n",
       "      <td>40</td>\n",
       "      <td>158</td>\n",
       "      <td>128</td>\n",
       "      <td>22</td>\n",
       "      <td>-9.6</td>\n",
       "      <td>0.112</td>\n",
       "      <td>0.168</td>\n",
       "      <td>0.174</td>\n",
       "      <td>0.508</td>\n",
       "      <td>0.094</td>\n",
       "    </tr>\n",
       "    <tr>\n",
       "      <td>4</td>\n",
       "      <td>228</td>\n",
       "      <td>Adam Keefe</td>\n",
       "      <td>1.610613e+09</td>\n",
       "      <td>UTA</td>\n",
       "      <td>29.0</td>\n",
       "      <td>6-9</td>\n",
       "      <td>81.0</td>\n",
       "      <td>230</td>\n",
       "      <td>Stanford</td>\n",
       "      <td>USA</td>\n",
       "      <td>1992</td>\n",
       "      <td>1</td>\n",
       "      <td>10</td>\n",
       "      <td>44</td>\n",
       "      <td>174</td>\n",
       "      <td>142</td>\n",
       "      <td>28</td>\n",
       "      <td>5.2</td>\n",
       "      <td>0.089</td>\n",
       "      <td>0.141</td>\n",
       "      <td>0.142</td>\n",
       "      <td>0.533</td>\n",
       "      <td>0.074</td>\n",
       "    </tr>\n",
       "    <tr>\n",
       "      <td>5</td>\n",
       "      <td>1502</td>\n",
       "      <td>Adonal Foyle</td>\n",
       "      <td>1.610613e+09</td>\n",
       "      <td>GSW</td>\n",
       "      <td>24.0</td>\n",
       "      <td>6-10</td>\n",
       "      <td>82.0</td>\n",
       "      <td>250</td>\n",
       "      <td>Colgate</td>\n",
       "      <td>St. Vincent &amp; Grenadines</td>\n",
       "      <td>1997</td>\n",
       "      <td>1</td>\n",
       "      <td>8</td>\n",
       "      <td>44</td>\n",
       "      <td>129</td>\n",
       "      <td>194</td>\n",
       "      <td>18</td>\n",
       "      <td>-3.9</td>\n",
       "      <td>0.118</td>\n",
       "      <td>0.181</td>\n",
       "      <td>0.121</td>\n",
       "      <td>0.450</td>\n",
       "      <td>0.049</td>\n",
       "    </tr>\n",
       "    <tr>\n",
       "      <td>6</td>\n",
       "      <td>1817</td>\n",
       "      <td>Adonis Jordan</td>\n",
       "      <td>1.610613e+09</td>\n",
       "      <td>MIL</td>\n",
       "      <td>28.0</td>\n",
       "      <td>5-11</td>\n",
       "      <td>71.0</td>\n",
       "      <td>170</td>\n",
       "      <td>Kansas</td>\n",
       "      <td>USA</td>\n",
       "      <td>1993</td>\n",
       "      <td>2</td>\n",
       "      <td>42</td>\n",
       "      <td>4</td>\n",
       "      <td>6</td>\n",
       "      <td>0</td>\n",
       "      <td>3</td>\n",
       "      <td>-40.0</td>\n",
       "      <td>0.000</td>\n",
       "      <td>0.000</td>\n",
       "      <td>0.190</td>\n",
       "      <td>0.521</td>\n",
       "      <td>0.273</td>\n",
       "    </tr>\n",
       "    <tr>\n",
       "      <td>7</td>\n",
       "      <td>1733</td>\n",
       "      <td>Al Harrington</td>\n",
       "      <td>1.610613e+09</td>\n",
       "      <td>IND</td>\n",
       "      <td>19.0</td>\n",
       "      <td>6-9</td>\n",
       "      <td>81.0</td>\n",
       "      <td>230</td>\n",
       "      <td>None</td>\n",
       "      <td>USA</td>\n",
       "      <td>1998</td>\n",
       "      <td>1</td>\n",
       "      <td>25</td>\n",
       "      <td>21</td>\n",
       "      <td>45</td>\n",
       "      <td>39</td>\n",
       "      <td>5</td>\n",
       "      <td>-7.3</td>\n",
       "      <td>0.115</td>\n",
       "      <td>0.137</td>\n",
       "      <td>0.200</td>\n",
       "      <td>0.359</td>\n",
       "      <td>0.060</td>\n",
       "    </tr>\n",
       "    <tr>\n",
       "      <td>8</td>\n",
       "      <td>673</td>\n",
       "      <td>Alan Henderson</td>\n",
       "      <td>1.610613e+09</td>\n",
       "      <td>ATL</td>\n",
       "      <td>26.0</td>\n",
       "      <td>6-9</td>\n",
       "      <td>81.0</td>\n",
       "      <td>235</td>\n",
       "      <td>Indiana</td>\n",
       "      <td>USA</td>\n",
       "      <td>1995</td>\n",
       "      <td>1</td>\n",
       "      <td>16</td>\n",
       "      <td>38</td>\n",
       "      <td>474</td>\n",
       "      <td>250</td>\n",
       "      <td>27</td>\n",
       "      <td>-3.1</td>\n",
       "      <td>0.088</td>\n",
       "      <td>0.133</td>\n",
       "      <td>0.220</td>\n",
       "      <td>0.485</td>\n",
       "      <td>0.048</td>\n",
       "    </tr>\n",
       "    <tr>\n",
       "      <td>9</td>\n",
       "      <td>275</td>\n",
       "      <td>Allan Houston</td>\n",
       "      <td>1.610613e+09</td>\n",
       "      <td>NYK</td>\n",
       "      <td>28.0</td>\n",
       "      <td>6-6</td>\n",
       "      <td>78.0</td>\n",
       "      <td>200</td>\n",
       "      <td>Tennessee</td>\n",
       "      <td>USA</td>\n",
       "      <td>1993</td>\n",
       "      <td>1</td>\n",
       "      <td>11</td>\n",
       "      <td>50</td>\n",
       "      <td>813</td>\n",
       "      <td>152</td>\n",
       "      <td>137</td>\n",
       "      <td>2.0</td>\n",
       "      <td>0.012</td>\n",
       "      <td>0.070</td>\n",
       "      <td>0.235</td>\n",
       "      <td>0.515</td>\n",
       "      <td>0.152</td>\n",
       "    </tr>\n",
       "  </tbody>\n",
       "</table>\n",
       "</div>"
      ],
      "text/plain": [
       "   PLAYER_ID     PLAYER_NAME       TEAM_ID TEAM_ABBREVIATION   AGE  \\\n",
       "0       1823            None  1.610613e+09               VAN   NaN   \n",
       "1        920      A.C. Green  1.610613e+09               DAL  35.0   \n",
       "2        243     Aaron McKie  1.610613e+09               PHI  26.0   \n",
       "3       1425  Aaron Williams  1.610613e+09               SEA  27.0   \n",
       "4        228      Adam Keefe  1.610613e+09               UTA  29.0   \n",
       "5       1502    Adonal Foyle  1.610613e+09               GSW  24.0   \n",
       "6       1817   Adonis Jordan  1.610613e+09               MIL  28.0   \n",
       "7       1733   Al Harrington  1.610613e+09               IND  19.0   \n",
       "8        673  Alan Henderson  1.610613e+09               ATL  26.0   \n",
       "9        275   Allan Houston  1.610613e+09               NYK  28.0   \n",
       "\n",
       "  PLAYER_HEIGHT  PLAYER_HEIGHT_INCHES PLAYER_WEIGHT       COLLEGE  \\\n",
       "0          None                   NaN          None          None   \n",
       "1           6-9                  81.0           225  Oregon State   \n",
       "2           6-5                  77.0           209        Temple   \n",
       "3           6-9                  81.0           225        Xavier   \n",
       "4           6-9                  81.0           230      Stanford   \n",
       "5          6-10                  82.0           250       Colgate   \n",
       "6          5-11                  71.0           170        Kansas   \n",
       "7           6-9                  81.0           230          None   \n",
       "8           6-9                  81.0           235       Indiana   \n",
       "9           6-6                  78.0           200     Tennessee   \n",
       "\n",
       "                    COUNTRY DRAFT_YEAR DRAFT_ROUND DRAFT_NUMBER  GP  PTS  REB  \\\n",
       "0                      None  Undrafted   Undrafted    Undrafted   4    5    5   \n",
       "1                       USA       1985           1           23  50  246  228   \n",
       "2                       USA       1994           1           17  50  240  140   \n",
       "3                       USA  Undrafted   Undrafted    Undrafted  40  158  128   \n",
       "4                       USA       1992           1           10  44  174  142   \n",
       "5  St. Vincent & Grenadines       1997           1            8  44  129  194   \n",
       "6                       USA       1993           2           42   4    6    0   \n",
       "7                       USA       1998           1           25  21   45   39   \n",
       "8                       USA       1995           1           16  38  474  250   \n",
       "9                       USA       1993           1           11  50  813  152   \n",
       "\n",
       "   AST  NET_RATING  OREB_PCT  DREB_PCT  USG_PCT  TS_PCT  AST_PCT  \n",
       "0    1        -8.8     0.100     0.111    0.115   0.434    0.050  \n",
       "1   25        -5.0     0.086     0.163    0.144   0.441    0.043  \n",
       "2  100        -2.6     0.029     0.120    0.148   0.454    0.183  \n",
       "3   22        -9.6     0.112     0.168    0.174   0.508    0.094  \n",
       "4   28         5.2     0.089     0.141    0.142   0.533    0.074  \n",
       "5   18        -3.9     0.118     0.181    0.121   0.450    0.049  \n",
       "6    3       -40.0     0.000     0.000    0.190   0.521    0.273  \n",
       "7    5        -7.3     0.115     0.137    0.200   0.359    0.060  \n",
       "8   27        -3.1     0.088     0.133    0.220   0.485    0.048  \n",
       "9  137         2.0     0.012     0.070    0.235   0.515    0.152  "
      ]
     },
     "execution_count": 56,
     "metadata": {},
     "output_type": "execute_result"
    }
   ],
   "source": [
    "bio_stats.head(10)"
   ]
  },
  {
   "cell_type": "code",
   "execution_count": 57,
   "metadata": {},
   "outputs": [],
   "source": [
    "df = bio_stats"
   ]
  },
  {
   "cell_type": "code",
   "execution_count": 59,
   "metadata": {},
   "outputs": [],
   "source": [
    "df.columns = map(str.lower, df.columns)"
   ]
  },
  {
   "cell_type": "code",
   "execution_count": 66,
   "metadata": {},
   "outputs": [],
   "source": [
    "df = df.dropna()"
   ]
  },
  {
   "cell_type": "code",
   "execution_count": 67,
   "metadata": {},
   "outputs": [
    {
     "name": "stdout",
     "output_type": "stream",
     "text": [
      "<class 'pandas.core.frame.DataFrame'>\n",
      "Int64Index: 10162 entries, 1 to 505\n",
      "Data columns (total 23 columns):\n",
      "player_id               10162 non-null int64\n",
      "player_name             10162 non-null object\n",
      "team_id                 10162 non-null float64\n",
      "team_abbreviation       10162 non-null object\n",
      "age                     10162 non-null float64\n",
      "player_height           10162 non-null object\n",
      "player_height_inches    10162 non-null float64\n",
      "player_weight           10162 non-null object\n",
      "college                 10162 non-null object\n",
      "country                 10162 non-null object\n",
      "draft_year              10162 non-null object\n",
      "draft_round             10162 non-null object\n",
      "draft_number            10162 non-null object\n",
      "gp                      10162 non-null int64\n",
      "pts                     10162 non-null int64\n",
      "reb                     10162 non-null int64\n",
      "ast                     10162 non-null int64\n",
      "net_rating              10162 non-null float64\n",
      "oreb_pct                10162 non-null float64\n",
      "dreb_pct                10162 non-null float64\n",
      "usg_pct                 10162 non-null float64\n",
      "ts_pct                  10162 non-null float64\n",
      "ast_pct                 10162 non-null float64\n",
      "dtypes: float64(9), int64(5), object(9)\n",
      "memory usage: 1.9+ MB\n"
     ]
    }
   ],
   "source": [
    "df.info()"
   ]
  },
  {
   "cell_type": "code",
   "execution_count": 69,
   "metadata": {},
   "outputs": [],
   "source": [
    "df.to_csv('bio_stats.csv')"
   ]
  }
 ],
 "metadata": {
  "kernelspec": {
   "display_name": "Python 3",
   "language": "python",
   "name": "python3"
  },
  "language_info": {
   "codemirror_mode": {
    "name": "ipython",
    "version": 3
   },
   "file_extension": ".py",
   "mimetype": "text/x-python",
   "name": "python",
   "nbconvert_exporter": "python",
   "pygments_lexer": "ipython3",
   "version": "3.7.4"
  }
 },
 "nbformat": 4,
 "nbformat_minor": 2
}
